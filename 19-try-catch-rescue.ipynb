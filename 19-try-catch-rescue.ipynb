{
 "cells": [
  {
   "cell_type": "markdown",
   "metadata": {},
   "source": [
    "# Elixir: try, catch, rescue"
   ]
  },
  {
   "cell_type": "markdown",
   "metadata": {},
   "source": [
    "### Errors\n",
    "* Errors (or exceptions) are used when exceptional things happen in the code. A sample error can be retrieved by trying to add a number into an atom.\n",
    "* A runtime error can be raised any time by using raise/1.\n",
    "* Other errors can be raised with raise/2 passing the error name and a list of keyword arguments.\n",
    "* You can define custom errors by creating a module and using the defexception construct inside it; this way, you’ll create an error with the same name as the module it’s defined in. The most common case is to define a custom exception with a message field.\n",
    "* Errors can be rescued with the try/rescue construct."
   ]
  },
  {
   "cell_type": "code",
   "execution_count": 1,
   "metadata": {},
   "outputs": [
    {
     "ename": "ArithmeticError",
     "evalue": "1",
     "output_type": "error",
     "traceback": [
      "** %ArithmeticError{message: \"bad argument in arithmetic expression\"}"
     ]
    }
   ],
   "source": [
    ":foo + 1"
   ]
  },
  {
   "cell_type": "code",
   "execution_count": 1,
   "metadata": {},
   "outputs": [
    {
     "ename": "RuntimeError",
     "evalue": "1",
     "output_type": "error",
     "traceback": [
      "** %RuntimeError{message: \"oops\"}"
     ]
    }
   ],
   "source": [
    "raise \"oops\""
   ]
  },
  {
   "cell_type": "code",
   "execution_count": 1,
   "metadata": {},
   "outputs": [
    {
     "ename": "ArgumentError",
     "evalue": "1",
     "output_type": "error",
     "traceback": [
      "** (ArgumentError) \"invalid argument foo\""
     ]
    }
   ],
   "source": [
    "raise ArgumentError, message: \"invalid argument foo\""
   ]
  },
  {
   "cell_type": "code",
   "execution_count": 1,
   "metadata": {},
   "outputs": [
    {
     "data": {
      "text/plain": [
       "{:module, MyError, <<70, 79, 82, 49, 0, 0, 11, 228, 66, 69, 65, 77, 65, 116, 85, 56, 0, 0, 1, 72, 0, 0, 0, 33, 14, 69, 108, 105, 120, 105, 114, 46, 77, 121, 69, 114, 114, 111, 114, 8, 95, 95, 105, 110, 102, 111, 95, ...>>, :ok}"
      ]
     },
     "execution_count": 1,
     "metadata": {},
     "output_type": "execute_result"
    }
   ],
   "source": [
    "defmodule MyError do\n",
    "  defexception message: \"default message\"\n",
    "  end\n",
    "  "
   ]
  },
  {
   "cell_type": "code",
   "execution_count": 2,
   "metadata": {},
   "outputs": [
    {
     "ename": "MyError",
     "evalue": "1",
     "output_type": "error",
     "traceback": [
      "** %MyError{message: \"default message\"}"
     ]
    }
   ],
   "source": [
    "raise MyError"
   ]
  },
  {
   "cell_type": "code",
   "execution_count": 2,
   "metadata": {},
   "outputs": [
    {
     "ename": "MyError",
     "evalue": "1",
     "output_type": "error",
     "traceback": [
      "** %MyError{message: \"doh!\"}"
     ]
    }
   ],
   "source": [
    "raise MyError, message: \"doh!\""
   ]
  },
  {
   "cell_type": "code",
   "execution_count": 2,
   "metadata": {},
   "outputs": [
    {
     "data": {
      "text/plain": [
       "%RuntimeError{message: \"doh!\"}"
      ]
     },
     "execution_count": 2,
     "metadata": {},
     "output_type": "execute_result"
    }
   ],
   "source": [
    "try do\n",
    "  raise \"doh!\"\n",
    "  rescue\n",
    "    e in RuntimeError -> e\n",
    "    end"
   ]
  },
  {
   "cell_type": "code",
   "execution_count": 3,
   "metadata": {},
   "outputs": [
    {
     "data": {
      "text/plain": [
       "\"Error!\""
      ]
     },
     "execution_count": 3,
     "metadata": {},
     "output_type": "execute_result"
    }
   ],
   "source": [
    "try do\n",
    "  raise \"doh!\"\n",
    "  rescue\n",
    "  RuntimeError -> \"Error!\"\n",
    "  end"
   ]
  },
  {
   "cell_type": "markdown",
   "metadata": {},
   "source": [
    "* In practice, Elixir developers rarely use try/rescue. For example, many languages force you to rescue an error when a file cannot be opened successfully. \n",
    "* Elixir instead provides a File.read/1 function which returns a tuple containing information about whether the file was opened successfully.\n",
    "* When you expect a file to exist (and the lack of that file is truly an error) you may use File.read!/1:"
   ]
  },
  {
   "cell_type": "code",
   "execution_count": 4,
   "metadata": {},
   "outputs": [
    {
     "data": {
      "text/plain": [
       "{:ok, \"\"}"
      ]
     },
     "execution_count": 4,
     "metadata": {},
     "output_type": "execute_result"
    }
   ],
   "source": [
    "File.read \"hello\""
   ]
  },
  {
   "cell_type": "code",
   "execution_count": 5,
   "metadata": {},
   "outputs": [
    {
     "data": {
      "text/plain": [
       ":ok"
      ]
     },
     "execution_count": 5,
     "metadata": {},
     "output_type": "execute_result"
    }
   ],
   "source": [
    "File.write \"hello\", \"world\""
   ]
  },
  {
   "cell_type": "code",
   "execution_count": 6,
   "metadata": {},
   "outputs": [
    {
     "data": {
      "text/plain": [
       "{:ok, \"world\"}"
      ]
     },
     "execution_count": 6,
     "metadata": {},
     "output_type": "execute_result"
    }
   ],
   "source": [
    "File.read \"hello\""
   ]
  },
  {
   "cell_type": "code",
   "execution_count": 7,
   "metadata": {},
   "outputs": [
    {
     "ename": "File.Error",
     "evalue": "1",
     "output_type": "error",
     "traceback": [
      "** %File.Error{action: \"read file\", path: \"unknown\", reason: :enoent}"
     ]
    }
   ],
   "source": [
    "File.read! \"unknown\""
   ]
  },
  {
   "cell_type": "markdown",
   "metadata": {},
   "source": [
    "* Many std functions follow the pattern of having a counterpart that raises an exception instead of returning tuples to match against. \n",
    "* The convention is a function (foo) which returns {:ok, result} or {:error, reason} tuples and another function (foo!) that takes the same arguments and raises an exception if there’s an error.\n",
    "* In Elixir, we avoid using try/rescue because we don’t use errors for control flow. We take errors literally: they are reserved for unexpected and/or exceptional situations. In case you actually need flow control constructs, throws should be used."
   ]
  },
  {
   "cell_type": "markdown",
   "metadata": {},
   "source": [
    "### Throws\n",
    "* Elixir values can be thrown and later be caught. throw and catch are reserved for situations where it is not possible to retrieve a value unless by using throw and catch.\n",
    "\n",
    "* Those situations are quite uncommon except when interfacing with libraries that do not provide a proper API. For example, let’s imagine the Enum module did not provide any API for finding a value and that we needed to find the first multiple of 13 in a list of numbers."
   ]
  },
  {
   "cell_type": "code",
   "execution_count": 7,
   "metadata": {},
   "outputs": [
    {
     "data": {
      "text/plain": [
       "\"got -39\""
      ]
     },
     "execution_count": 7,
     "metadata": {},
     "output_type": "execute_result"
    }
   ],
   "source": [
    "try do\n",
    "  Enum.each -50..50, fn(x) ->\n",
    "    if rem(x,13) == 0, do: throw(x)\n",
    "    end\n",
    "    \"got nothing\"\n",
    "    catch\n",
    "      x -> \"got #{x}\"\n",
    "      end\n",
    "    "
   ]
  },
  {
   "cell_type": "markdown",
   "metadata": {},
   "source": [
    "* Since Enum does provide a proper API, in practice Enum.find/2 is the way to go."
   ]
  },
  {
   "cell_type": "code",
   "execution_count": 8,
   "metadata": {},
   "outputs": [
    {
     "data": {
      "text/plain": [
       "-39"
      ]
     },
     "execution_count": 8,
     "metadata": {},
     "output_type": "execute_result"
    }
   ],
   "source": [
    "Enum.find -50..50, &(rem(&1, 13) == 0)"
   ]
  },
  {
   "cell_type": "markdown",
   "metadata": {},
   "source": [
    "### Exits\n",
    "* All Elixir code runs inside processes that communicate with each other. When a process dies of “natural causes” (e.g., unhandled exceptions), it sends an exit signal. A process can also die by explicitly sending an exit signal.\n",
    "\n",
    "![exit](pix/exit.png)"
   ]
  },
  {
   "cell_type": "markdown",
   "metadata": {},
   "source": [
    "* Exit can also be caught using try/catch."
   ]
  },
  {
   "cell_type": "code",
   "execution_count": 9,
   "metadata": {},
   "outputs": [
    {
     "data": {
      "text/plain": [
       "\"not really\""
      ]
     },
     "execution_count": 9,
     "metadata": {},
     "output_type": "execute_result"
    }
   ],
   "source": [
    "try do\n",
    "  exit \"i am exiting\"\n",
    "catch\n",
    "  :exit, _ -> \"not really\"\n",
    "  end\n",
    "  "
   ]
  },
  {
   "cell_type": "markdown",
   "metadata": {},
   "source": [
    "* Exit signals are an important part of the fault tolerant system provided by the Erlang VM. Processes usually run under supervision trees which are themselves processes that listen to exit signals from the supervised processes. Once an exit signal is received, the supervision strategy kicks in and the supervised process is restarted.\n",
    "\n",
    "* It is exactly this supervision system that makes constructs like try/catch and try/rescue so uncommon in Elixir. Instead of rescuing an error, we’d rather “fail fast” since the supervision tree will guarantee our application will go back to a known initial state after the error."
   ]
  },
  {
   "cell_type": "markdown",
   "metadata": {},
   "source": [
    "### After\n",
    "* Sometimes it’s necessary to ensure that a resource is cleaned up after some action that could potentially raise an error. The try/after construct allows you to do that. For example, we can open a file and use an after clause to close it–even if something goes wrong."
   ]
  },
  {
   "cell_type": "code",
   "execution_count": 10,
   "metadata": {},
   "outputs": [
    {
     "data": {
      "text/plain": [
       "{:ok, #PID<0.270.0>}"
      ]
     },
     "execution_count": 10,
     "metadata": {},
     "output_type": "execute_result"
    }
   ],
   "source": [
    "{:ok, file} = File.open \"sample\", [:utf8, :write]"
   ]
  },
  {
   "cell_type": "code",
   "execution_count": 11,
   "metadata": {},
   "outputs": [
    {
     "ename": "RuntimeError",
     "evalue": "1",
     "output_type": "error",
     "traceback": [
      "** %RuntimeError{message: \"oops, something went wrong\"}"
     ]
    }
   ],
   "source": [
    "try do\n",
    "  IO.write file, \"wazoo\"\n",
    "  raise \"oops, something went wrong\"\n",
    "  after\n",
    "    File.close(file)\n",
    "    end"
   ]
  },
  {
   "cell_type": "markdown",
   "metadata": {},
   "source": [
    "* The after clause will be executed regardless of whether or not the tried block succeeds. * Note: if a linked process exits, this process will exit and the after clause will not run - thus after provides only a soft guarantee. \n",
    "* Luckily, files in Elixir are also linked to the current processes - they will always get closed if the current process crashes, independent of the after clause. You will find the same to be true for other resources like ETS tables, sockets, ports and more.\n",
    "\n",
    "* Sometimes you may want to wrap the entire body of a function in a try construct, often to guarantee some code will be executed afterwards. In such cases, Elixir allows you to omit the try line."
   ]
  },
  {
   "cell_type": "code",
   "execution_count": 11,
   "metadata": {},
   "outputs": [
    {
     "data": {
      "text/plain": [
       "{:module, RunAfter, <<70, 79, 82, 49, 0, 0, 5, 96, 66, 69, 65, 77, 65, 116, 85, 56, 0, 0, 0, 230, 0, 0, 0, 19, 15, 69, 108, 105, 120, 105, 114, 46, 82, 117, 110, 65, 102, 116, 101, 114, 8, 95, 95, 105, 110, 102, 111, ...>>, {:without_even_trying, 0}}"
      ]
     },
     "execution_count": 11,
     "metadata": {},
     "output_type": "execute_result"
    }
   ],
   "source": [
    "# ****** BUG ****** TODO ******\n",
    "\n",
    "defmodule RunAfter do\n",
    "  def without_even_trying do\n",
    "    raise \"oops\"\n",
    "  after\n",
    "    IO.puts \"cleaning up\"\n",
    "  end\n",
    "end    "
   ]
  },
  {
   "cell_type": "code",
   "execution_count": 12,
   "metadata": {},
   "outputs": [
    {
     "ename": "RuntimeError",
     "evalue": "1",
     "output_type": "error",
     "traceback": [
      "** %RuntimeError{message: \"oops\"}"
     ]
    }
   ],
   "source": [
    "RunAfter.without_even_trying"
   ]
  },
  {
   "cell_type": "markdown",
   "metadata": {},
   "source": [
    "### Else\n",
    "* If an else block is present, it will match on the results of the try block whenever the try block finishes without a throw or error.\n",
    "* Exceptions in the else block are not caught. If no pattern inside the else block matches, an exception will be raised; this exception is not caught by the current try/catch/rescue/after block."
   ]
  },
  {
   "cell_type": "code",
   "execution_count": 12,
   "metadata": {},
   "outputs": [
    {
     "data": {
      "text/plain": [
       "2"
      ]
     },
     "execution_count": 12,
     "metadata": {},
     "output_type": "execute_result"
    }
   ],
   "source": [
    "x = 2"
   ]
  },
  {
   "cell_type": "code",
   "execution_count": 13,
   "metadata": {},
   "outputs": [
    {
     "data": {
      "text/plain": [
       ":small"
      ]
     },
     "execution_count": 13,
     "metadata": {},
     "output_type": "execute_result"
    }
   ],
   "source": [
    "try do\n",
    " 1/x\n",
    " rescue\n",
    "   ArithmeticError -> :infinity\n",
    "   else\n",
    "     y when y<1 and y>-1 -> :small\n",
    "     _ -> :large\n",
    "     end"
   ]
  },
  {
   "cell_type": "markdown",
   "metadata": {},
   "source": [
    "### Variables scope\n",
    "* Variables defined inside try/catch/rescue/after blocks do not leak to the outer context. This is because the try block may fail and as such the variables may never be bound in the first place. In other words, this code is invalid."
   ]
  },
  {
   "cell_type": "code",
   "execution_count": 14,
   "metadata": {},
   "outputs": [
    {
     "name": "stderr",
     "output_type": "stream",
     "text": [
      "\u001b[33mwarning: \u001b[0mvariable \"what_happened\" is unused\n",
      "  nofile:3\n",
      "\n",
      "\u001b[33mwarning: \u001b[0mvariable \"what_happened\" is unused\n",
      "  nofile:5\n",
      "\n"
     ]
    },
    {
     "data": {
      "text/plain": [
       ":rescued"
      ]
     },
     "execution_count": 14,
     "metadata": {},
     "output_type": "execute_result"
    }
   ],
   "source": [
    "try do\n",
    "  raise \"fail\"\n",
    "  what_happened = :did_not_raise\n",
    "  rescue\n",
    "  _ -> what_happened = :rescued\n",
    "  end"
   ]
  },
  {
   "cell_type": "code",
   "execution_count": 15,
   "metadata": {},
   "outputs": [
    {
     "data": {
      "text/plain": [
       ":rescued"
      ]
     },
     "execution_count": 15,
     "metadata": {},
     "output_type": "execute_result"
    }
   ],
   "source": [
    "what_happened = \n",
    "  try do\n",
    "    raise \"fail\"\n",
    "    :did_not_raise\n",
    "    rescue\n",
    "    _ -> :rescued\n",
    "    end"
   ]
  },
  {
   "cell_type": "code",
   "execution_count": null,
   "metadata": {},
   "outputs": [],
   "source": []
  }
 ],
 "metadata": {
  "kernelspec": {
   "display_name": "Elixir",
   "language": "Elixir",
   "name": "ielixir"
  },
  "language_info": {
   "codemirror_mode": "elixir",
   "file_extension": "ex",
   "mimetype": "text/x-elixir",
   "name": "elixir",
   "nbconvert_exporter": "",
   "pygments_lexer": "elixir",
   "version": "1.7.4"
  }
 },
 "nbformat": 4,
 "nbformat_minor": 2
}
