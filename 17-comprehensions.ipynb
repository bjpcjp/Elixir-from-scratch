{
 "cells": [
  {
   "cell_type": "markdown",
   "metadata": {},
   "source": [
    "# Elixir: comprehensions\n",
    "* In Elixir, it is common to loop over an Enumerable, often filtering out some results and mapping values into another list. Comprehensions are syntactic sugar for such constructs: they group those common tasks into the for special form.\n",
    "* For example, we can map a list of integers into their squared values:"
   ]
  },
  {
   "cell_type": "code",
   "execution_count": 1,
   "metadata": {},
   "outputs": [
    {
     "data": {
      "text/plain": [
       "[1, 4, 9, 16]"
      ]
     },
     "execution_count": 1,
     "metadata": {},
     "output_type": "execute_result"
    }
   ],
   "source": [
    "for n <- [1, 2, 3, 4], do: n * n"
   ]
  },
  {
   "cell_type": "markdown",
   "metadata": {},
   "source": [
    "* A comprehension is made of three parts: generators, filters, and collectables."
   ]
  },
  {
   "cell_type": "markdown",
   "metadata": {},
   "source": [
    "### Generators and filters\n",
    "* In the expression above, _n <- [1, 2, 3, 4]_ is the generator. It is literally generating values to be used in the comprehension. Any enumerable can be passed on the right-hand side of the generator expression.\n",
    "* Generator expressions support pattern matching on their left-hand side; all non-matching patterns are ignored. \n",
    "* Imagine that, instead of a range, we have a keyword list where the key is :good or :bad and we only want to compute the square of the :good values."
   ]
  },
  {
   "cell_type": "code",
   "execution_count": 2,
   "metadata": {},
   "outputs": [
    {
     "data": {
      "text/plain": [
       "[good: 1, good: 2, bad: 3, good: 4]"
      ]
     },
     "execution_count": 2,
     "metadata": {},
     "output_type": "execute_result"
    }
   ],
   "source": [
    "values = [good: 1, good: 2, bad: 3, good: 4]"
   ]
  },
  {
   "cell_type": "code",
   "execution_count": 3,
   "metadata": {},
   "outputs": [
    {
     "data": {
      "text/plain": [
       "[1, 4, 16]"
      ]
     },
     "execution_count": 3,
     "metadata": {},
     "output_type": "execute_result"
    }
   ],
   "source": [
    "for {:good, n} <- values, do: n * n"
   ]
  },
  {
   "cell_type": "markdown",
   "metadata": {},
   "source": [
    "* Filters can be used to select elements. For example, we can select the multiples of 3 and discard all others."
   ]
  },
  {
   "cell_type": "code",
   "execution_count": 4,
   "metadata": {},
   "outputs": [
    {
     "data": {
      "text/plain": [
       "#Function<6.128620087/1 in :erl_eval.expr/5>"
      ]
     },
     "execution_count": 4,
     "metadata": {},
     "output_type": "execute_result"
    }
   ],
   "source": [
    "multiple_of_3? = fn(n) -> rem(n, 3) == 0 end"
   ]
  },
  {
   "cell_type": "code",
   "execution_count": 5,
   "metadata": {},
   "outputs": [
    {
     "data": {
      "text/plain": [
       "[0, 9]"
      ]
     },
     "execution_count": 5,
     "metadata": {},
     "output_type": "execute_result"
    }
   ],
   "source": [
    "for n <- 0..5, multiple_of_3?.(n), do: n * n"
   ]
  },
  {
   "cell_type": "markdown",
   "metadata": {},
   "source": [
    "* Comprehensions discard all elements where the filter returns false or nil; all other values are selected.\n",
    "* Comprehensions provide a more concise representation than the equivalent functions in the Enum and Stream modules. Comprehensions also allow multiple generators and filters to be given. \n",
    "* Here is an example that receives a list of directories and gets the size of each file in those directories."
   ]
  },
  {
   "cell_type": "code",
   "execution_count": 7,
   "metadata": {},
   "outputs": [
    {
     "data": {
      "text/plain": [
       "['/home/bjpcjp']"
      ]
     },
     "execution_count": 7,
     "metadata": {},
     "output_type": "execute_result"
    }
   ],
   "source": [
    "dirs = ['/home/bjpcjp']"
   ]
  },
  {
   "cell_type": "code",
   "execution_count": 8,
   "metadata": {},
   "outputs": [
    {
     "data": {
      "text/plain": [
       "[30, 9, 296, 379, 6, 238282, 4179, 0, 90, 5, 4575, 6, 720809, 269512, 40, 0, 116, 835, 63, 35602, 4757, 130, 0, 256, 2200, 39125761, 0, 485, 772, 0, 695, 854, 45, 28, 2016, 220, 0, 131, 372, 67, 73, 222426, 28672, 66, 73, 129, 25, 1675, 0, 327, ...]"
      ]
     },
     "execution_count": 8,
     "metadata": {},
     "output_type": "execute_result"
    }
   ],
   "source": [
    "for dir  <- dirs,\n",
    "    file <- File.ls!(dir),\n",
    "    path = Path.join(dir, file),\n",
    "    File.regular?(path) do\n",
    "  File.stat!(path).size\n",
    "end"
   ]
  },
  {
   "cell_type": "markdown",
   "metadata": {},
   "source": [
    "* Multiple generators can also be used to calculate the cartesian product of two lists."
   ]
  },
  {
   "cell_type": "code",
   "execution_count": 9,
   "metadata": {},
   "outputs": [
    {
     "data": {
      "text/plain": [
       "[a: 1, a: 2, b: 1, b: 2, c: 1, c: 2]"
      ]
     },
     "execution_count": 9,
     "metadata": {},
     "output_type": "execute_result"
    }
   ],
   "source": [
    "for i <- [:a, :b, :c], j <- [1, 2], do:  {i, j}"
   ]
  },
  {
   "cell_type": "markdown",
   "metadata": {},
   "source": [
    "### Bitstring generators\n",
    "* Bitstring generators are useful when you need to comprehend over bitstring streams. The example below receives a list of pixels from a binary with their respective red, green and blue values and converts them into tuples of three elements each."
   ]
  },
  {
   "cell_type": "code",
   "execution_count": 10,
   "metadata": {},
   "outputs": [
    {
     "data": {
      "text/plain": [
       "<<213, 45, 132, 64, 76, 32, 76, 0, 0, 234, 32, 15>>"
      ]
     },
     "execution_count": 10,
     "metadata": {},
     "output_type": "execute_result"
    }
   ],
   "source": [
    "pixels = <<213, 45, 132, 64, 76, 32, 76, 0, 0, 234, 32, 15>>"
   ]
  },
  {
   "cell_type": "code",
   "execution_count": 11,
   "metadata": {},
   "outputs": [
    {
     "data": {
      "text/plain": [
       "[{213, 45, 132}, {64, 76, 32}, {76, 0, 0}, {234, 32, 15}]"
      ]
     },
     "execution_count": 11,
     "metadata": {},
     "output_type": "execute_result"
    }
   ],
   "source": [
    "for <<r::8, g::8, b::8 <- pixels>>, do: {r, g, b}"
   ]
  },
  {
   "cell_type": "markdown",
   "metadata": {},
   "source": [
    "### The :into option\n",
    "* In the examples above, all the comprehensions returned lists. \n",
    "* However, the result of a comprehension can be inserted into different data structures by passing the :into option to the comprehension.\n",
    "* For example, a bitstring generator can be used with the :into option in order to easily remove all spaces in a string."
   ]
  },
  {
   "cell_type": "code",
   "execution_count": 12,
   "metadata": {},
   "outputs": [
    {
     "data": {
      "text/plain": [
       "\"helloworld\""
      ]
     },
     "execution_count": 12,
     "metadata": {},
     "output_type": "execute_result"
    }
   ],
   "source": [
    "for <<c <- \" hello world \">>, c != ?\\s, into: \"\", do: <<c>>"
   ]
  },
  {
   "cell_type": "markdown",
   "metadata": {},
   "source": [
    "* A common use case of :into can be transforming values in a map, without touching the keys."
   ]
  },
  {
   "cell_type": "code",
   "execution_count": 13,
   "metadata": {},
   "outputs": [
    {
     "data": {
      "text/plain": [
       "%{\"a\" => 1, \"b\" => 4}"
      ]
     },
     "execution_count": 13,
     "metadata": {},
     "output_type": "execute_result"
    }
   ],
   "source": [
    "for {key, val} <- %{\"a\" => 1, \"b\" => 2}, into: %{}, do: {key, val * val}"
   ]
  },
  {
   "cell_type": "markdown",
   "metadata": {},
   "source": [
    "* Since the IO module provides streams (that are both Enumerables and Collectables), an echo terminal that echoes back the upcased version of whatever is typed can be built using comprehensions.\n",
    "* (Unfortunately, you'll have to ctrl-C twice to exit this code loop. :-( )\n",
    "\n",
    "![upcase](pix/upcase.png)"
   ]
  },
  {
   "cell_type": "code",
   "execution_count": null,
   "metadata": {},
   "outputs": [],
   "source": []
  }
 ],
 "metadata": {
  "kernelspec": {
   "display_name": "Elixir",
   "language": "Elixir",
   "name": "ielixir"
  },
  "language_info": {
   "codemirror_mode": "elixir",
   "file_extension": "ex",
   "mimetype": "text/x-elixir",
   "name": "elixir",
   "nbconvert_exporter": "",
   "pygments_lexer": "elixir",
   "version": "1.7.4"
  }
 },
 "nbformat": 4,
 "nbformat_minor": 2
}
