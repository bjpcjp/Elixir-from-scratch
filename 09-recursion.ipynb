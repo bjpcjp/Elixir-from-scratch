{
 "cells": [
  {
   "cell_type": "markdown",
   "metadata": {},
   "source": [
    "# Elixir: Recursion\n",
    "* Due to immutability, loops in Elixir are written differently from imperative languages. For example, in an imperative language like C, one would write:\n",
    "```\n",
    "for(i = 0; i < sizeof(array); i++) {\n",
    "  array[i] = array[i] * 2;\n",
    "}\n",
    "```\n",
    "\n",
    "* Mutating is not possible in Elixir. Functional languages intead rely on recursion: a function is called recursively until a stopping condition is reached. No data is mutated in this process. Consider the example below that prints a string an arbitrary number of times:"
   ]
  },
  {
   "cell_type": "code",
   "execution_count": 1,
   "metadata": {},
   "outputs": [
    {
     "name": "stdout",
     "output_type": "stream",
     "text": [
      "hello\n",
      "hello\n",
      "hello\n",
      "hello\n",
      "hello\n"
     ]
    },
    {
     "data": {
      "text/plain": [
       ":ok"
      ]
     },
     "execution_count": 1,
     "metadata": {},
     "output_type": "execute_result"
    }
   ],
   "source": [
    "defmodule Recursion do\n",
    "  def print_multiple_times(msg, n) when n <= 1 do\n",
    "    IO.puts msg\n",
    "  end\n",
    "\n",
    "  def print_multiple_times(msg, n) do\n",
    "    IO.puts msg\n",
    "    print_multiple_times(msg, n - 1)\n",
    "  end\n",
    "end\n",
    "\n",
    "Recursion.print_multiple_times(\"hello\",5)"
   ]
  },
  {
   "cell_type": "markdown",
   "metadata": {},
   "source": [
    "* A function may have many clauses. A clause is executed when the arguments passed to the function match the clause’s argument patterns and its guard evaluates to true."
   ]
  },
  {
   "cell_type": "markdown",
   "metadata": {},
   "source": [
    "### Reduce & Map algorithms\n",
    "* The process of taking a list and reducing it down to one value is known as a reduce algorithm and is central to functional programming."
   ]
  },
  {
   "cell_type": "code",
   "execution_count": 2,
   "metadata": {},
   "outputs": [
    {
     "name": "stdout",
     "output_type": "stream",
     "text": [
      "6\n"
     ]
    },
    {
     "data": {
      "text/plain": [
       ":ok"
      ]
     },
     "execution_count": 2,
     "metadata": {},
     "output_type": "execute_result"
    }
   ],
   "source": [
    "defmodule Math do\n",
    "  def sum_list([head | tail], accumulator) do\n",
    "    sum_list(tail, head + accumulator)\n",
    "  end\n",
    "\n",
    "  def sum_list([], accumulator) do\n",
    "    accumulator\n",
    "  end\n",
    "end\n",
    "\n",
    "# invoke with the list [1,2,3] and initial value of zero.\n",
    "# [1,2,3] matches [head|tail], so head binds to 1, tail binds to [2,3].\n",
    "\n",
    "IO.puts Math.sum_list([1, 2, 3], 0)"
   ]
  },
  {
   "cell_type": "code",
   "execution_count": 4,
   "metadata": {},
   "outputs": [
    {
     "name": "stderr",
     "output_type": "stream",
     "text": [
      "\u001b[33mwarning: \u001b[0mredefining module Math (current version defined in memory)\n",
      "  nofile:3\n",
      "\n"
     ]
    },
    {
     "data": {
      "text/plain": [
       "[2, 4, 6]"
      ]
     },
     "execution_count": 4,
     "metadata": {},
     "output_type": "execute_result"
    }
   ],
   "source": [
    "# using recursion to double each element in a list & return a new list.\n",
    "\n",
    "defmodule Math do\n",
    "  def double_each([head | tail]) do\n",
    "    [head * 2 | double_each(tail)]\n",
    "  end\n",
    "\n",
    "  def double_each([]) do\n",
    "    []\n",
    "  end\n",
    "end\n",
    "\n",
    "Math.double_each([1,2,3])"
   ]
  },
  {
   "cell_type": "markdown",
   "metadata": {},
   "source": [
    "* Recursion and tail call optimization are an important part of Elixir and are commonly used to create loops. However, when programming in Elixir you will rarely use recursion as above to manipulate lists.\n",
    "* The [Enum module](https://hexdocs.pm/elixir/Enum.html), in the next chapter, provides shortcuts for working with lists. For instance, the examples above could be written as:"
   ]
  },
  {
   "cell_type": "code",
   "execution_count": 5,
   "metadata": {},
   "outputs": [
    {
     "data": {
      "text/plain": [
       "6"
      ]
     },
     "execution_count": 5,
     "metadata": {},
     "output_type": "execute_result"
    }
   ],
   "source": [
    "Enum.reduce([1, 2, 3], 0, fn(x, acc) -> x + acc end)"
   ]
  },
  {
   "cell_type": "code",
   "execution_count": 6,
   "metadata": {},
   "outputs": [
    {
     "data": {
      "text/plain": [
       "[2, 4, 6]"
      ]
     },
     "execution_count": 6,
     "metadata": {},
     "output_type": "execute_result"
    }
   ],
   "source": [
    "Enum.map([1, 2, 3], fn(x) -> x * 2 end)"
   ]
  },
  {
   "cell_type": "code",
   "execution_count": null,
   "metadata": {},
   "outputs": [],
   "source": []
  }
 ],
 "metadata": {
  "kernelspec": {
   "display_name": "Elixir",
   "language": "Elixir",
   "name": "ielixir"
  },
  "language_info": {
   "codemirror_mode": "elixir",
   "file_extension": "ex",
   "mimetype": "text/x-elixir",
   "name": "elixir",
   "nbconvert_exporter": "",
   "pygments_lexer": "elixir",
   "version": "1.7.4"
  }
 },
 "nbformat": 4,
 "nbformat_minor": 2
}
