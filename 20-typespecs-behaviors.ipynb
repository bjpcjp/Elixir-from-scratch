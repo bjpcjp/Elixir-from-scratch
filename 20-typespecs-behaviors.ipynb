{
 "cells": [
  {
   "cell_type": "markdown",
   "metadata": {},
   "source": [
    "# Elixir: typespecs & behaviors"
   ]
  },
  {
   "cell_type": "markdown",
   "metadata": {},
   "source": [
    "### Types & specs\n",
    "\n",
    "Elixir is a dynamically typed language, so all types in Elixir are inferred by the runtime. Nonetheless, Elixir comes with typespecs, which are a notation used for:\n",
    "\n",
    "- declaring typed function signatures (specifications);\n",
    "- declaring custom data types."
   ]
  },
  {
   "cell_type": "markdown",
   "metadata": {},
   "source": [
    "### Function specs\n",
    "\n",
    "Elixir provides some basic types, such as integer or pid, as well as more complex types: for example, the round/1 function, which rounds a float to its nearest integer, takes a number as an argument (an integer or a float) and returns an integer. As you can see in [its documentation](https://hexdocs.pm/elixir/Kernel.html#round/1), round/1’s typed signature is written as:\n",
    "\n",
    "    ```round(number) :: integer```\n",
    "    \n",
    "```::``` means that the function on the left side returns a value whose type is what’s on the right side. Function specs are written with the ```@spec``` directive, placed right before the function definition. ```round/1``` could be written as:\n",
    "\n",
    "    ```@spec round(number) :: integer\n",
    "    def round(number), do: # implementation...```\n",
    "    \n",
    "Elixir also support compound types. For example a list of integers has type ```[integer]```. Elixir's built-in types are documented [here](https://hexdocs.pm/elixir/typespecs.html)"
   ]
  },
  {
   "cell_type": "markdown",
   "metadata": {},
   "source": [
    "### Custom types\n",
    "While Elixir provides a lot of useful built-in types, it’s convenient to define custom types when appropriate. This can be done when defining modules through the ```@type``` directive.\n",
    "\n",
    "Say we have a ```LousyCalculator``` module, which, instead of returning numbers, it returns tuples with the result of an operation as the first element and a random remark as the second element."
   ]
  },
  {
   "cell_type": "code",
   "execution_count": 1,
   "metadata": {},
   "outputs": [
    {
     "data": {
      "text/plain": [
       "{:module, LousyCalculator, <<70, 79, 82, 49, 0, 0, 5, 152, 66, 69, 65, 77, 65, 116, 85, 56, 0, 0, 0, 146, 0, 0, 0, 16, 22, 69, 108, 105, 120, 105, 114, 46, 76, 111, 117, 115, 121, 67, 97, 108, 99, 117, 108, 97, 116, 111, 114, ...>>, {:multiply, 2}}"
      ]
     },
     "execution_count": 1,
     "metadata": {},
     "output_type": "execute_result"
    }
   ],
   "source": [
    "defmodule LousyCalculator do\n",
    "  @spec add(number, number) :: {number, String.t}\n",
    "  def add(x, y), do: {x + y, \"You need a calculator to do that?!\"}\n",
    "\n",
    "  @spec multiply(number, number) :: {number, String.t}\n",
    "  def multiply(x, y), do: {x * y, \"Jeez, come on!\"}\n",
    "end"
   ]
  },
  {
   "cell_type": "markdown",
   "metadata": {},
   "source": [
    "Tuples are a compound type and each tuple is identified by the types inside it. To understand why String.t is not written as string, have another look at the [typespecs docs](https://hexdocs.pm/elixir/typespecs.html#the-string-type).\n",
    "\n",
    "Defining function specs this way quickly becomes annoying since we’re repeating the type ```{number, String.t}``` over and over. We can use the ```@type``` directive in order to declare our own custom type."
   ]
  },
  {
   "cell_type": "code",
   "execution_count": 2,
   "metadata": {},
   "outputs": [
    {
     "name": "stderr",
     "output_type": "stream",
     "text": [
      "\u001b[33mwarning: \u001b[0mredefining module LousyCalculator (current version defined in memory)\n",
      "  nofile:1\n",
      "\n"
     ]
    },
    {
     "data": {
      "text/plain": [
       "{:module, LousyCalculator, <<70, 79, 82, 49, 0, 0, 6, 16, 66, 69, 65, 77, 65, 116, 85, 56, 0, 0, 0, 146, 0, 0, 0, 16, 22, 69, 108, 105, 120, 105, 114, 46, 76, 111, 117, 115, 121, 67, 97, 108, 99, 117, 108, 97, 116, 111, 114, ...>>, {:multiply, 2}}"
      ]
     },
     "execution_count": 2,
     "metadata": {},
     "output_type": "execute_result"
    }
   ],
   "source": [
    "defmodule LousyCalculator do\n",
    "  @typedoc \"\"\"\n",
    "  Just a number followed by a string.\n",
    "  \"\"\"\n",
    "  @type number_with_remark :: {number, String.t}\n",
    "\n",
    "  @spec add(number, number) :: number_with_remark\n",
    "  def add(x, y), do: {x + y, \"You need a calculator to do that?\"}\n",
    "\n",
    "  @spec multiply(number, number) :: number_with_remark\n",
    "  def multiply(x, y), do: {x * y, \"It is like addition on steroids.\"}\n",
    "end"
   ]
  },
  {
   "cell_type": "markdown",
   "metadata": {},
   "source": [
    "The ```@typedoc``` directive, similar to ```@doc``` and ```@moduledoc```, is used to document custom types.\n",
    "\n",
    "Custom types defined through ```@type``` are exported and available outside the module they’re defined in."
   ]
  },
  {
   "cell_type": "code",
   "execution_count": 3,
   "metadata": {},
   "outputs": [
    {
     "data": {
      "text/plain": [
       "{:module, QuietCalculator, <<70, 79, 82, 49, 0, 0, 5, 0, 66, 69, 65, 77, 65, 116, 85, 56, 0, 0, 0, 167, 0, 0, 0, 15, 22, 69, 108, 105, 120, 105, 114, 46, 81, 117, 105, 101, 116, 67, 97, 108, 99, 117, 108, 97, 116, 111, 114, ...>>, {:make_quiet, 1}}"
      ]
     },
     "execution_count": 3,
     "metadata": {},
     "output_type": "execute_result"
    }
   ],
   "source": [
    "defmodule QuietCalculator do\n",
    "  @spec add(number, number) :: number\n",
    "  def add(x, y), do: make_quiet(LousyCalculator.add(x, y))\n",
    "\n",
    "  @spec make_quiet(LousyCalculator.number_with_remark) :: number\n",
    "  defp make_quiet({num, _remark}), do: num\n",
    "end"
   ]
  },
  {
   "cell_type": "markdown",
   "metadata": {},
   "source": [
    "If you want to keep a custom type private, use ```@typep``` instead of ```@type```."
   ]
  },
  {
   "cell_type": "markdown",
   "metadata": {},
   "source": [
    "### Static code analysis\n",
    "\n",
    "Typespecs are not only useful to developers as additional documentation. The Erlang tool [Dialyzer](http://www.erlang.org/doc/man/dialyzer.html), for example, uses typespecs in order to perform static analysis of code. That’s why, in the ```QuietCalculator``` example, we wrote a spec for the make_quiet/1 function even though it was defined as a private function."
   ]
  },
  {
   "cell_type": "markdown",
   "metadata": {},
   "source": [
    "### Behaviors\n",
    "\n",
    "Many modules share the same public API. Take a look at [Plug](https://github.com/elixir-lang/plug), which is a specification for composable modules in web applications. Each plug is a module which has to implement at least two public functions: ```init/1``` and ```call/2```.\n",
    "\n",
    "Behaviours provide a way to:\n",
    "\n",
    "- define a set of functions that have to be implemented by a module;\n",
    "- ensure that a module implements all the functions in that set.\n",
    "\n",
    "If you have to, you can think of behaviours like interfaces in object oriented languages like Java: a set of function signatures that a module has to implement."
   ]
  },
  {
   "cell_type": "markdown",
   "metadata": {},
   "source": [
    "### Defining behaviors\n",
    "\n",
    "Say we want to implement a bunch of parsers, each parsing structured data: for example, a JSON parser and a MessagePack parser. Each of these two parsers will behave the same way: both provide a ```parse/1``` function and an ```extensions/0``` function. \n",
    "\n",
    "```parse/1``` will return an Elixir representation of the structured data; ```extensions/0``` will return a list of file extensions that can be used for each type of data (e.g., .json for JSON files).\n",
    "\n",
    "We can create a ```Parser``` behaviour:"
   ]
  },
  {
   "cell_type": "code",
   "execution_count": 4,
   "metadata": {},
   "outputs": [
    {
     "data": {
      "text/plain": [
       "{:module, Parser, <<70, 79, 82, 49, 0, 0, 4, 144, 66, 69, 65, 77, 65, 116, 85, 56, 0, 0, 0, 164, 0, 0, 0, 15, 13, 69, 108, 105, 120, 105, 114, 46, 80, 97, 114, 115, 101, 114, 8, 95, 95, 105, 110, 102, 111, 95, 95, ...>>, :ok}"
      ]
     },
     "execution_count": 4,
     "metadata": {},
     "output_type": "execute_result"
    }
   ],
   "source": [
    "defmodule Parser do\n",
    "  @callback parse(String.t) :: {:ok, term} | {:error, String.t}\n",
    "  @callback extensions() :: [String.t]\n",
    "end"
   ]
  },
  {
   "cell_type": "markdown",
   "metadata": {},
   "source": [
    "Modules adopting the ```Parser``` behaviour will have to implement all the functions defined with the ```@callback``` directive. As you can see, ```@callback``` expects a function name but also a function specification like the ones used with the ```@spec``` directive we saw above. Also note that the ```term``` type is used to represent the parsed value. In Elixir, the `term` type is a shortcut to represent any type."
   ]
  },
  {
   "cell_type": "markdown",
   "metadata": {},
   "source": [
    "### Adopting behaviors"
   ]
  },
  {
   "cell_type": "code",
   "execution_count": 5,
   "metadata": {},
   "outputs": [
    {
     "data": {
      "text/plain": [
       "{:module, JSONParser, <<70, 79, 82, 49, 0, 0, 5, 48, 66, 69, 65, 77, 65, 116, 85, 56, 0, 0, 0, 158, 0, 0, 0, 17, 17, 69, 108, 105, 120, 105, 114, 46, 74, 83, 79, 78, 80, 97, 114, 115, 101, 114, 8, 95, 95, 105, 110, ...>>, {:extensions, 0}}"
      ]
     },
     "execution_count": 5,
     "metadata": {},
     "output_type": "execute_result"
    }
   ],
   "source": [
    "defmodule JSONParser do\n",
    "  @behaviour Parser\n",
    "\n",
    "  @impl Parser\n",
    "  def parse(str), do: {:ok, \"some json \" <> str} # ... parse JSON\n",
    "  \n",
    "  @impl Parser\n",
    "  def extensions, do: [\"json\"]\n",
    "end"
   ]
  },
  {
   "cell_type": "code",
   "execution_count": 6,
   "metadata": {},
   "outputs": [
    {
     "data": {
      "text/plain": [
       "{:module, YAMLParser, <<70, 79, 82, 49, 0, 0, 5, 48, 66, 69, 65, 77, 65, 116, 85, 56, 0, 0, 0, 158, 0, 0, 0, 17, 17, 69, 108, 105, 120, 105, 114, 46, 89, 65, 77, 76, 80, 97, 114, 115, 101, 114, 8, 95, 95, 105, 110, ...>>, {:extensions, 0}}"
      ]
     },
     "execution_count": 6,
     "metadata": {},
     "output_type": "execute_result"
    }
   ],
   "source": [
    "defmodule YAMLParser do\n",
    "  @behaviour Parser\n",
    "\n",
    "  @impl Parser\n",
    "  def parse(str), do: {:ok, \"some yaml \" <> str} # ... parse YAML\n",
    "  \n",
    "  @impl Parser\n",
    "  def extensions, do: [\"yml\"]\n",
    "end"
   ]
  },
  {
   "cell_type": "markdown",
   "metadata": {},
   "source": [
    "If a module adopting a given behaviour doesn’t implement one of the callbacks required by that behaviour, a compile-time warning will be generated.\n",
    "\n",
    "With `@impl` you can ensure that you are implementing the correct callbacks from the given behaviour in an explicit manner. For example, the following parser implements both `parse` and `extensions`, however thanks to a typo, `BADParser` implements `parse/0` instead of `parse/1`."
   ]
  },
  {
   "cell_type": "code",
   "execution_count": 7,
   "metadata": {},
   "outputs": [
    {
     "name": "stderr",
     "output_type": "stream",
     "text": [
      "\u001b[33mwarning: \u001b[0mgot \"@impl Parser\" for function parse/0 but this behaviour does not specify such callback. The known callbacks are:\n",
      "\n",
      "  * Parser.extensions/0 (function)\n",
      "  * Parser.parse/1 (function)\n",
      "\n",
      "  nofile:5\n",
      "\n",
      "\u001b[33mwarning: \u001b[0mfunction parse/1 required by behaviour Parser is not implemented (in module BADParser)\n",
      "  nofile:1\n",
      "\n"
     ]
    },
    {
     "data": {
      "text/plain": [
       "{:module, BADParser, <<70, 79, 82, 49, 0, 0, 4, 180, 66, 69, 65, 77, 65, 116, 85, 56, 0, 0, 0, 140, 0, 0, 0, 14, 16, 69, 108, 105, 120, 105, 114, 46, 66, 65, 68, 80, 97, 114, 115, 101, 114, 8, 95, 95, 105, 110, 102, ...>>, {:extensions, 0}}"
      ]
     },
     "execution_count": 7,
     "metadata": {},
     "output_type": "execute_result"
    }
   ],
   "source": [
    "defmodule BADParser do\n",
    "  @behaviour Parser\n",
    "\n",
    "  @impl Parser\n",
    "  def parse, do: {:ok, \"something bad\"}\n",
    "  \n",
    "  @impl Parser\n",
    "  def extensions, do: [\"bad\"]\n",
    "end"
   ]
  },
  {
   "cell_type": "markdown",
   "metadata": {},
   "source": [
    "This code generates a warning: you are mistakenly implementing `parse/0` instead of `parse/1`. You can read more about `@impl` in the module documentation."
   ]
  },
  {
   "cell_type": "markdown",
   "metadata": {},
   "source": [
    "### Dynamic dispatch\n",
    "\n",
    "Behaviours are frequently used with dynamic dispatching. For example, we could add a `parse!` function to the `Parser` module that dispatches to the given implementation and returns `:ok` or raises in cases of `:error`:"
   ]
  },
  {
   "cell_type": "code",
   "execution_count": 8,
   "metadata": {},
   "outputs": [
    {
     "name": "stderr",
     "output_type": "stream",
     "text": [
      "\u001b[33mwarning: \u001b[0mredefining module Parser (current version defined in memory)\n",
      "  nofile:1\n",
      "\n"
     ]
    },
    {
     "data": {
      "text/plain": [
       "{:module, Parser, <<70, 79, 82, 49, 0, 0, 7, 36, 66, 69, 65, 77, 65, 116, 85, 56, 0, 0, 1, 5, 0, 0, 0, 25, 13, 69, 108, 105, 120, 105, 114, 46, 80, 97, 114, 115, 101, 114, 8, 95, 95, 105, 110, 102, 111, 95, 95, ...>>, {:parse!, 2}}"
      ]
     },
     "execution_count": 8,
     "metadata": {},
     "output_type": "execute_result"
    }
   ],
   "source": [
    "defmodule Parser do\n",
    "  @callback parse(String.t) :: {:ok, term} | {:error, String.t}\n",
    "  @callback extensions() :: [String.t]\n",
    "\n",
    "  def parse!(implementation, contents) do\n",
    "    case implementation.parse(contents) do\n",
    "      {:ok, data} -> data\n",
    "      {:error, error} -> raise ArgumentError, \"parsing error: #{error}\"\n",
    "    end\n",
    "  end\n",
    "end"
   ]
  },
  {
   "cell_type": "code",
   "execution_count": null,
   "metadata": {},
   "outputs": [],
   "source": []
  }
 ],
 "metadata": {
  "kernelspec": {
   "display_name": "Elixir",
   "language": "Elixir",
   "name": "ielixir"
  },
  "language_info": {
   "codemirror_mode": "elixir",
   "file_extension": "ex",
   "mimetype": "text/x-elixir",
   "name": "elixir",
   "nbconvert_exporter": "",
   "pygments_lexer": "elixir",
   "version": "1.7.4"
  }
 },
 "nbformat": 4,
 "nbformat_minor": 2
}
