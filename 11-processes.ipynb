{
 "cells": [
  {
   "cell_type": "markdown",
   "metadata": {},
   "source": [
    "# Elixir: Processes\n",
    "* In Elixir, all code runs inside __processes__. Processes are isolated from each other, run concurrent to one another and communicate via message passing. Processes are not only the basis for concurrency in Elixir, but they also provide the means for building distributed and fault-tolerant programs.\n",
    "\n",
    "* Elixir’s processes should not be confused with operating system processes. Processes in Elixir are extremely lightweight in terms of memory and CPU (even compared to threads as used in many other programming languages). Because of this, __it is not uncommon to have tens or even hundreds of thousands of processes running simultaneously__(!!).\n",
    "\n",
    "* In this chapter, we will learn about the basic constructs for spawning new processes, as well as sending and receiving messages between processes."
   ]
  },
  {
   "cell_type": "markdown",
   "metadata": {},
   "source": [
    "### Spawn\n",
    "* Spawn is the basic mechanism for creating new processes. It takes a function which will execute in another process. \n",
    "* Notice that it returns a PID (process identifier). At this point the process you spawned in likely dead. The spawned process will execute the given function & exit after the function is done."
   ]
  },
  {
   "cell_type": "code",
   "execution_count": 1,
   "metadata": {},
   "outputs": [
    {
     "data": {
      "text/plain": [
       "#PID<0.221.0>"
      ]
     },
     "execution_count": 1,
     "metadata": {},
     "output_type": "execute_result"
    }
   ],
   "source": [
    "pid = spawn fn -> 1 + 2 end"
   ]
  },
  {
   "cell_type": "code",
   "execution_count": 2,
   "metadata": {},
   "outputs": [
    {
     "data": {
      "text/plain": [
       "false"
      ]
     },
     "execution_count": 2,
     "metadata": {},
     "output_type": "execute_result"
    }
   ],
   "source": [
    "Process.alive?(pid)"
   ]
  },
  {
   "cell_type": "code",
   "execution_count": 3,
   "metadata": {},
   "outputs": [
    {
     "data": {
      "text/plain": [
       "#PID<0.212.0>"
      ]
     },
     "execution_count": 3,
     "metadata": {},
     "output_type": "execute_result"
    }
   ],
   "source": [
    "# We can retrieve the PID of the current process by calling self/0:\n",
    "self()"
   ]
  },
  {
   "cell_type": "code",
   "execution_count": 4,
   "metadata": {},
   "outputs": [
    {
     "data": {
      "text/plain": [
       "true"
      ]
     },
     "execution_count": 4,
     "metadata": {},
     "output_type": "execute_result"
    }
   ],
   "source": [
    "Process.alive?(self())"
   ]
  },
  {
   "cell_type": "markdown",
   "metadata": {},
   "source": [
    "### Send and Receive\n",
    "* When a message is sent to a process, it is stored in a __process mailbox__. \n",
    "* __Receive__ searches the current process mailbox for a message that matches any of the given patterns. It supports guards and many clauses, such as case."
   ]
  },
  {
   "cell_type": "code",
   "execution_count": 5,
   "metadata": {},
   "outputs": [
    {
     "data": {
      "text/plain": [
       "{:hello, \"world\"}"
      ]
     },
     "execution_count": 5,
     "metadata": {},
     "output_type": "execute_result"
    }
   ],
   "source": [
    "send self(), {:hello, \"world\"}"
   ]
  },
  {
   "cell_type": "markdown",
   "metadata": {},
   "source": [
    "* If there is no message in the mailbox matching any of the patterns, the current process will wait until a matching message arrives. A timeout can also be specified."
   ]
  },
  {
   "cell_type": "code",
   "execution_count": 6,
   "metadata": {},
   "outputs": [
    {
     "data": {
      "text/plain": [
       "'nothing after 1 second'"
      ]
     },
     "execution_count": 6,
     "metadata": {},
     "output_type": "execute_result"
    }
   ],
   "source": [
    "receive do\n",
    "  {:hello, msg} -> msg\n",
    "after\n",
    "  1000 -> 'nothing after 1 second'\n",
    "  end"
   ]
  },
  {
   "cell_type": "markdown",
   "metadata": {},
   "source": [
    "* Let’s put it all together and send messages between processes."
   ]
  },
  {
   "cell_type": "code",
   "execution_count": 7,
   "metadata": {},
   "outputs": [
    {
     "data": {
      "text/plain": [
       "\"Got hello from #PID<0.236.0>\""
      ]
     },
     "execution_count": 7,
     "metadata": {},
     "output_type": "execute_result"
    }
   ],
   "source": [
    "parent = self()\n",
    "\n",
    "spawn fn -> send(parent, {:hello, self()}) end\n",
    "\n",
    "receive do\n",
    "  {:hello, pid} -> \"Got hello from #{inspect pid}\"\n",
    "  end"
   ]
  },
  {
   "cell_type": "markdown",
   "metadata": {},
   "source": [
    "* __inspect/1__ converts a data structure’s internal representation into a string, typically for printing. When the receive block gets executed the sender process we have spawned may already be dead, as its only instruction was to send a message.\n",
    "\n",
    "* While in the shell, you may find __flush/0__ quite useful. It flushes and prints all the messages in the mailbox.\n",
    "\n"
   ]
  },
  {
   "cell_type": "code",
   "execution_count": 8,
   "metadata": {},
   "outputs": [
    {
     "data": {
      "text/plain": [
       ":hello"
      ]
     },
     "execution_count": 8,
     "metadata": {},
     "output_type": "execute_result"
    }
   ],
   "source": [
    "send self(), :hello"
   ]
  },
  {
   "cell_type": "code",
   "execution_count": 9,
   "metadata": {},
   "outputs": [
    {
     "data": {
      "text/plain": [
       ":ok"
      ]
     },
     "execution_count": 9,
     "metadata": {},
     "output_type": "execute_result"
    }
   ],
   "source": [
    "flush()"
   ]
  },
  {
   "cell_type": "markdown",
   "metadata": {},
   "source": [
    "* When executed in iex (command line):\n",
    "![send-self-hello](pix/send-self-hello.png)"
   ]
  },
  {
   "cell_type": "markdown",
   "metadata": {},
   "source": [
    "### Links\n",
    "* Usually processes in Elixir are spawned as linked processes. If we want the failure in one process to propagate to another one, we should link them. This can be done with __spawn_link__. Let's see what happens when a process started with spawn fails:\n",
    "\n",
    "![spawn-oops](pix/spawn-oops.png)\n",
    "\n",
    "* It logged an error, but the parent process is still running. That's because processes are isolated. If we want a failure in one process to propagate to another, we need to link them with __spawn_link__.\n",
    "\n",
    "![spawn-link-oops](pix/spawn-link-oop.png)\n",
    "\n",
    "* Now we see a message saying the parent (shell) process received an EXIT signal from another process causing the shell to terminate. IEX detects this situation and starts a new shell session."
   ]
  },
  {
   "cell_type": "markdown",
   "metadata": {},
   "source": [
    "### [Processes](https://hexdocs.pm/elixir/Process.html)\n",
    "\n",
    "* Elixir __processes__ are isolated and don’t share anything by default. Therefore, a failure in a process will never crash or corrupt the state of another process.\n",
    "\n",
    "* __Links__, however, allow processes to establish a relationship in case of failure. We often link processes to supervisors which will detect when a process dies and start a new process in its place.\n",
    "\n",
    "* While other languages require us to catch/handle exceptions, Elixir is fine with letting processes fail because we expect supervisors to properly restart our systems.\n",
    "\n",
    "* __spawn__ and __spawn_link__ are the primitives for creating processes in Elixir. Usually we will use abstractions that build on top of them. Let’s see the most common one, called __tasks__."
   ]
  },
  {
   "cell_type": "markdown",
   "metadata": {},
   "source": [
    "### Tasks\n",
    "* Tasks build on top of the spawn functions to provide better error reports and introspection.\n",
    "\n",
    "![output](pix/tasks.png)\n",
    "\n",
    "* Instead of spawn and spawn_link, we use __Task.start__ and __Task.start_link__ which return {:ok, pid} rather than just the PID. This is what enables tasks to be used in supervision trees. \n",
    "\n",
    "* Task provides convenience functions, like __Task.async__ and __Task.await__, and functionality to ease distribution."
   ]
  },
  {
   "cell_type": "markdown",
   "metadata": {},
   "source": [
    "### State\n",
    "* If you are building an application that requires state, for example, to keep your application configuration, or you need to parse a file and keep it in memory, where do you store it?\n",
    "* Processes are the most common answer. We can write processes that loop infinitely, maintain state, and send and receive messages. \n",
    "* As an example, let’s write a module that starts new processes that work as a key-value store in a file named kv.exs:\n",
    "\n",
    "```\n",
    "defmodule KV do\n",
    "  def start_link do\n",
    "    Task.start_link(fn -> loop(%{}) end)\n",
    "  end\n",
    "\n",
    "  defp loop(map) do\n",
    "    receive do\n",
    "      {:get, key, caller} ->\n",
    "        send caller, Map.get(map, key)\n",
    "        loop(map)\n",
    "      {:put, key, value} ->\n",
    "        loop(Map.put(map, key, value))\n",
    "    end\n",
    "  end\n",
    "end```"
   ]
  },
  {
   "cell_type": "markdown",
   "metadata": {},
   "source": [
    "* start_link starts a new process that runs loop/1, starting with an empty map. \n",
    "* loop/1 waits for messages and performs the appropriate action for each message. In the case of a :get message, it sends a message back to the caller and calls loop/1 again, to wait for a new message. While the :put message actually invokes loop/1 with a new version of the map, with the given key and value stored."
   ]
  },
  {
   "cell_type": "markdown",
   "metadata": {},
   "source": [
    "![kv-exs](pix/kv-exs.png)"
   ]
  },
  {
   "cell_type": "markdown",
   "metadata": {},
   "source": [
    "* At first, the process map has no keys, so sending a :get message and then flushing the current process inbox returns nil. Let’s send a :put message and try it again:\n",
    "\n",
    "![kv2-exs](pix/kv2-exs.png)"
   ]
  },
  {
   "cell_type": "markdown",
   "metadata": {},
   "source": [
    "* Note how we can access & update this process's state by sending messages. An process that knows the PID can do the same.\n",
    "\n",
    "* We also can register the PID, giving it a name, and allowing everyone that knows the name to send it messages.\n",
    "\n",
    "![kv3-exs](pix/kv3-exs.png)"
   ]
  },
  {
   "cell_type": "markdown",
   "metadata": {},
   "source": [
    "* Using processes to maintain state & name registration are common use cases in Elixir. Usually we will use an abstraction to create these patterns. For example, Elixir provides __[agents](https://hexdocs.pm/elixir/Agent.html)__:\n",
    "\n",
    "![agents](pix/agents.png)"
   ]
  },
  {
   "cell_type": "code",
   "execution_count": null,
   "metadata": {},
   "outputs": [],
   "source": []
  }
 ],
 "metadata": {
  "kernelspec": {
   "display_name": "Elixir",
   "language": "Elixir",
   "name": "ielixir"
  },
  "language_info": {
   "codemirror_mode": "elixir",
   "file_extension": "ex",
   "mimetype": "text/x-elixir",
   "name": "elixir",
   "nbconvert_exporter": "",
   "pygments_lexer": "elixir",
   "version": "1.7.4"
  }
 },
 "nbformat": 4,
 "nbformat_minor": 2
}
