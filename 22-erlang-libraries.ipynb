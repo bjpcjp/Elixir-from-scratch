{
 "cells": [
  {
   "cell_type": "markdown",
   "metadata": {},
   "source": [
    "# Elixir: Erlang libraries\n",
    "\n",
    "Elixir provides excellent interoperability with Erlang libraries. In fact, Elixir discourages simply wrapping Erlang libraries in favor of directly interfacing with Erlang code. This section describes some common Erlang functionality that is not found in Elixir.\n",
    "\n",
    "Consider exploring the [Erlang STDLIB Reference Manual](http://erlang.org/doc/apps/stdlib/index.html)."
   ]
  },
  {
   "cell_type": "markdown",
   "metadata": {},
   "source": [
    "### the [binary module](http://erlang.org/doc/man/binary.html)\n",
    "\n",
    "The built-in Elixir String module handles binaries that are UTF-8 encoded. The binary module is useful when you are dealing with binary data that is __not__ UTF-8 encoded.\n",
    "\n",
    "Here, the `String` module returns Unicode codepoints, while `:binary` deals with raw data bytes."
   ]
  },
  {
   "cell_type": "code",
   "execution_count": 1,
   "metadata": {},
   "outputs": [
    {
     "data": {
      "text/plain": [
       "[216]"
      ]
     },
     "execution_count": 1,
     "metadata": {},
     "output_type": "execute_result"
    }
   ],
   "source": [
    "String.to_charlist \"Ø\""
   ]
  },
  {
   "cell_type": "code",
   "execution_count": 2,
   "metadata": {},
   "outputs": [
    {
     "data": {
      "text/plain": [
       "[195, 152]"
      ]
     },
     "execution_count": 2,
     "metadata": {},
     "output_type": "execute_result"
    }
   ],
   "source": [
    ":binary.bin_to_list \"Ø\""
   ]
  },
  {
   "cell_type": "markdown",
   "metadata": {},
   "source": [
    "### [Formatted text output](http://erlang.org/doc/man/io.html#format-1)\n",
    "\n",
    "Elixir does not contain a function similar to `printf` found in C and other languages. Erlang provides the standard library functions `:io.format/2` and `:io_lib.format/2` instead. The first formats to terminal output, while the second formats to an iolist."
   ]
  },
  {
   "cell_type": "code",
   "execution_count": 3,
   "metadata": {},
   "outputs": [
    {
     "name": "stdout",
     "output_type": "stream",
     "text": [
      "Pi is approximately given by:     3.142\n"
     ]
    },
    {
     "data": {
      "text/plain": [
       ":ok"
      ]
     },
     "execution_count": 3,
     "metadata": {},
     "output_type": "execute_result"
    }
   ],
   "source": [
    ":io.format(\"Pi is approximately given by:~10.3f~n\", [:math.pi])"
   ]
  },
  {
   "cell_type": "code",
   "execution_count": 4,
   "metadata": {},
   "outputs": [
    {
     "data": {
      "text/plain": [
       "\"Pi is approximately given by:     3.142\\n\""
      ]
     },
     "execution_count": 4,
     "metadata": {},
     "output_type": "execute_result"
    }
   ],
   "source": [
    "to_string :io_lib.format(\"Pi is approximately given by:~10.3f~n\", [:math.pi])"
   ]
  },
  {
   "cell_type": "markdown",
   "metadata": {},
   "source": [
    "### the [crypto module](http://erlang.org/doc/man/crypto.html)\n",
    "\n",
    "This module contains hashing functions, digital signatures, encryption and more. "
   ]
  },
  {
   "cell_type": "code",
   "execution_count": 5,
   "metadata": {},
   "outputs": [
    {
     "data": {
      "text/plain": [
       "\"3315715A7A3AD57428298676C5AE465DADA38D951BDFAC9348A8A31E9C7401CB\""
      ]
     },
     "execution_count": 5,
     "metadata": {},
     "output_type": "execute_result"
    }
   ],
   "source": [
    "Base.encode16(:crypto.hash(:sha256, \"Elixir\"))"
   ]
  },
  {
   "cell_type": "markdown",
   "metadata": {},
   "source": [
    "It is not part of the Erlang standard library, but is included with the Erlang distribution. This means you must list `:crypto` in your project’s applications list to use it. To do this, edit your `mix.exs` file to include:\n",
    "\n",
    "`def application do\n",
    "  [extra_applications: [:crypto]]\n",
    "end`"
   ]
  },
  {
   "cell_type": "markdown",
   "metadata": {},
   "source": [
    "### the [digraph module](http://erlang.org/doc/man/digraph.html) and [digraph_utils](http://erlang.org/doc/man/digraph_utils.html)\n",
    "\n",
    "`digraph` and `digraph_utils` contain functions for handling directed graphs built of vertices and edges. After constructing the graph, the algorithms will help find, for instance, the shortest path between two vertices, or loops in the graph.\n",
    "\n",
    "Given three vertices, find the shortest path from the first to the last."
   ]
  },
  {
   "cell_type": "code",
   "execution_count": 6,
   "metadata": {},
   "outputs": [
    {
     "data": {
      "text/plain": [
       "{:digraph, #Reference<0.943104496.2083127297.86895>, #Reference<0.943104496.2083127297.86896>, #Reference<0.943104496.2083127297.86897>, true}"
      ]
     },
     "execution_count": 6,
     "metadata": {},
     "output_type": "execute_result"
    }
   ],
   "source": [
    "digraph = :digraph.new()"
   ]
  },
  {
   "cell_type": "code",
   "execution_count": 7,
   "metadata": {},
   "outputs": [
    {
     "data": {
      "text/plain": [
       "[{0.0, 0.0}, {1.0, 0.0}, {1.0, 1.0}]"
      ]
     },
     "execution_count": 7,
     "metadata": {},
     "output_type": "execute_result"
    }
   ],
   "source": [
    "coords = [{0.0, 0.0}, {1.0, 0.0}, {1.0, 1.0}]"
   ]
  },
  {
   "cell_type": "code",
   "execution_count": 8,
   "metadata": {},
   "outputs": [
    {
     "data": {
      "text/plain": [
       "[{0.0, 0.0}, {1.0, 0.0}, {1.0, 1.0}]"
      ]
     },
     "execution_count": 8,
     "metadata": {},
     "output_type": "execute_result"
    }
   ],
   "source": [
    "[v0, v1, v2] = (for c <- coords, do: :digraph.add_vertex(digraph, c))"
   ]
  },
  {
   "cell_type": "code",
   "execution_count": 9,
   "metadata": {},
   "outputs": [
    {
     "data": {
      "text/plain": [
       "[{0.0, 0.0}, {1.0, 0.0}, {1.0, 1.0}]"
      ]
     },
     "execution_count": 9,
     "metadata": {},
     "output_type": "execute_result"
    }
   ],
   "source": [
    ":digraph.add_edge(digraph, v0, v1)\n",
    ":digraph.add_edge(digraph, v1, v2)\n",
    ":digraph.get_short_path(digraph, v0, v2)"
   ]
  },
  {
   "cell_type": "markdown",
   "metadata": {},
   "source": [
    "Note: `:digraph` functions alter the graph structure in-place. This is possible because they are implemented as ETS tables (explained next)."
   ]
  },
  {
   "cell_type": "markdown",
   "metadata": {},
   "source": [
    "### Erlang Term Storage (ETS)\n",
    "\n",
    "The [ets](http://erlang.org/doc/man/ets.html) and [dets](http://erlang.org/doc/man/dets.html) modules handle storage of large data structures in memory or on disk.\n",
    "\n",
    "ETS lets you create a table containing tuples. ETS tables are protected by default - only the owner process may write to the table, but any other process can read. \n",
    "\n",
    "ETS can allow a table to be used as a simple database, a key-value store or as a cache mechanism.\n",
    "\n",
    "`ets` module functions will modify the state of the table as a side-effect.\n",
    "\n",
    "__NOTE: :ets.i(table) appears to wait for for user input before exiting. Needs further investigation.__\n",
    "\n",
    "![table](pix/table.png)"
   ]
  },
  {
   "cell_type": "markdown",
   "metadata": {},
   "source": [
    "### the [math module](http://erlang.org/doc/man/math.html)\n",
    "\n",
    "This module covers trigonometry, exponential & logarithmic functions."
   ]
  },
  {
   "cell_type": "code",
   "execution_count": 10,
   "metadata": {},
   "outputs": [
    {
     "data": {
      "text/plain": [
       "0.7853981633974483"
      ]
     },
     "execution_count": 10,
     "metadata": {},
     "output_type": "execute_result"
    }
   ],
   "source": [
    "angle_45_deg = :math.pi() * 45.0 / 180.0"
   ]
  },
  {
   "cell_type": "code",
   "execution_count": 11,
   "metadata": {},
   "outputs": [
    {
     "data": {
      "text/plain": [
       "0.7071067811865475"
      ]
     },
     "execution_count": 11,
     "metadata": {},
     "output_type": "execute_result"
    }
   ],
   "source": [
    ":math.sin(angle_45_deg)"
   ]
  },
  {
   "cell_type": "code",
   "execution_count": 12,
   "metadata": {},
   "outputs": [
    {
     "data": {
      "text/plain": [
       "7.694785265142018e23"
      ]
     },
     "execution_count": 12,
     "metadata": {},
     "output_type": "execute_result"
    }
   ],
   "source": [
    ":math.exp(55.0)"
   ]
  },
  {
   "cell_type": "code",
   "execution_count": 14,
   "metadata": {},
   "outputs": [
    {
     "data": {
      "text/plain": [
       "54.99999931575169"
      ]
     },
     "execution_count": 14,
     "metadata": {},
     "output_type": "execute_result"
    }
   ],
   "source": [
    ":math.log(7.69478e23)"
   ]
  },
  {
   "cell_type": "markdown",
   "metadata": {},
   "source": [
    "### the [queue module](http://erlang.org/doc/man/queue.html)\n",
    "\n",
    "This module implements double-ended FIFO queues."
   ]
  },
  {
   "cell_type": "code",
   "execution_count": 15,
   "metadata": {},
   "outputs": [
    {
     "data": {
      "text/plain": [
       "{[], []}"
      ]
     },
     "execution_count": 15,
     "metadata": {},
     "output_type": "execute_result"
    }
   ],
   "source": [
    "q = :queue.new"
   ]
  },
  {
   "cell_type": "code",
   "execution_count": 16,
   "metadata": {},
   "outputs": [
    {
     "data": {
      "text/plain": [
       "{{:value, \"A\"}, {[], [\"B\"]}}"
      ]
     },
     "execution_count": 16,
     "metadata": {},
     "output_type": "execute_result"
    }
   ],
   "source": [
    "q = :queue.in(\"A\", q)\n",
    "q = :queue.in(\"B\", q)\n",
    "{value, q} = :queue.out(q)"
   ]
  },
  {
   "cell_type": "code",
   "execution_count": 17,
   "metadata": {},
   "outputs": [
    {
     "data": {
      "text/plain": [
       "{:value, \"A\"}"
      ]
     },
     "execution_count": 17,
     "metadata": {},
     "output_type": "execute_result"
    }
   ],
   "source": [
    "value"
   ]
  },
  {
   "cell_type": "code",
   "execution_count": 18,
   "metadata": {},
   "outputs": [
    {
     "data": {
      "text/plain": [
       "{:value, \"B\"}"
      ]
     },
     "execution_count": 18,
     "metadata": {},
     "output_type": "execute_result"
    }
   ],
   "source": [
    "{value, q} = :queue.out(q)\n",
    "value"
   ]
  },
  {
   "cell_type": "code",
   "execution_count": 19,
   "metadata": {},
   "outputs": [
    {
     "data": {
      "text/plain": [
       ":empty"
      ]
     },
     "execution_count": 19,
     "metadata": {},
     "output_type": "execute_result"
    }
   ],
   "source": [
    "{value, q} = :queue.out(q)\n",
    "value"
   ]
  },
  {
   "cell_type": "markdown",
   "metadata": {},
   "source": [
    "### the [rand module](http://erlang.org/doc/man/rand.html)\n",
    "\n",
    "This module returns random values and sets the random seed."
   ]
  },
  {
   "cell_type": "code",
   "execution_count": 20,
   "metadata": {},
   "outputs": [
    {
     "data": {
      "text/plain": [
       "0.8757444731543029"
      ]
     },
     "execution_count": 20,
     "metadata": {},
     "output_type": "execute_result"
    }
   ],
   "source": [
    ":rand.uniform()"
   ]
  },
  {
   "cell_type": "code",
   "execution_count": 21,
   "metadata": {},
   "outputs": [
    {
     "data": {
      "text/plain": [
       "{%{jump: #Function<13.10897371/1 in :rand.mk_alg/1>, max: 18446744073709551615, next: #Function<12.10897371/1 in :rand.mk_alg/1>, type: :exs1024}, {[6553152330993393869, 15576460181258137320, 2960463442740161846, 13247468477590660091, 3207070858802105896, 679965480797542391, 10180771202394949538, 1801809308031995977, 4023298332664308366, 1363327370850698446, 7095173100638256885, 13137639840664349999, 14412257979290585054, 10860747010201920933, 3676145946860864412, 5490211022645046085], []}}"
      ]
     },
     "execution_count": 21,
     "metadata": {},
     "output_type": "execute_result"
    }
   ],
   "source": [
    ":rand.seed(:exs1024, {123,123534,3345345})"
   ]
  },
  {
   "cell_type": "code",
   "execution_count": 22,
   "metadata": {},
   "outputs": [
    {
     "data": {
      "text/plain": [
       "0.7404221885067003"
      ]
     },
     "execution_count": 22,
     "metadata": {},
     "output_type": "execute_result"
    }
   ],
   "source": [
    ":rand.uniform()"
   ]
  },
  {
   "cell_type": "code",
   "execution_count": 23,
   "metadata": {},
   "outputs": [
    {
     "data": {
      "text/plain": [
       "5"
      ]
     },
     "execution_count": 23,
     "metadata": {},
     "output_type": "execute_result"
    }
   ],
   "source": [
    ":rand.uniform(6)"
   ]
  },
  {
   "cell_type": "code",
   "execution_count": 24,
   "metadata": {},
   "outputs": [
    {
     "data": {
      "text/plain": [
       "3"
      ]
     },
     "execution_count": 24,
     "metadata": {},
     "output_type": "execute_result"
    }
   ],
   "source": [
    ":rand.uniform(6)"
   ]
  },
  {
   "cell_type": "markdown",
   "metadata": {},
   "source": [
    "### the [zip module](http://erlang.org/doc/man/rand.html)\n",
    "\n",
    "This module  lets you read/write ZIP files to/from disk/memory, and extract file information."
   ]
  },
  {
   "cell_type": "code",
   "execution_count": 25,
   "metadata": {},
   "outputs": [
    {
     "data": {
      "text/plain": [
       "\"\\nMary had a little lamb,\\nHis fleece was white as snow,\\nAnd everywhere that Mary went,\\nThe lamb was sure to go.\""
      ]
     },
     "execution_count": 25,
     "metadata": {},
     "output_type": "execute_result"
    }
   ],
   "source": [
    "song = \"\n",
    "Mary had a little lamb,\n",
    "His fleece was white as snow,\n",
    "And everywhere that Mary went,\n",
    "The lamb was sure to go.\""
   ]
  },
  {
   "cell_type": "code",
   "execution_count": 26,
   "metadata": {},
   "outputs": [
    {
     "data": {
      "text/plain": [
       "<<120, 156, 37, 140, 187, 13, 195, 48, 12, 5, 123, 77, 241, 6, 16, 188, 67, 186, 52, 233, 188, 0, 109, 189, 132, 2, 100, 9, 144, 152, 16, 222, 62, 254, 116, 87, 220, 93, 120, 73, 223, 161, 146, 32, 40, 217, 172, 16, 69, 182, ...>>"
      ]
     },
     "execution_count": 26,
     "metadata": {},
     "output_type": "execute_result"
    }
   ],
   "source": [
    "compressed = :zlib.compress(song)"
   ]
  },
  {
   "cell_type": "code",
   "execution_count": 27,
   "metadata": {},
   "outputs": [
    {
     "data": {
      "text/plain": [
       "110"
      ]
     },
     "execution_count": 27,
     "metadata": {},
     "output_type": "execute_result"
    }
   ],
   "source": [
    "byte_size song"
   ]
  },
  {
   "cell_type": "code",
   "execution_count": 28,
   "metadata": {},
   "outputs": [
    {
     "data": {
      "text/plain": [
       "99"
      ]
     },
     "execution_count": 28,
     "metadata": {},
     "output_type": "execute_result"
    }
   ],
   "source": [
    "byte_size compressed"
   ]
  },
  {
   "cell_type": "code",
   "execution_count": 29,
   "metadata": {},
   "outputs": [
    {
     "data": {
      "text/plain": [
       "\"\\nMary had a little lamb,\\nHis fleece was white as snow,\\nAnd everywhere that Mary went,\\nThe lamb was sure to go.\""
      ]
     },
     "execution_count": 29,
     "metadata": {},
     "output_type": "execute_result"
    }
   ],
   "source": [
    ":zlib.uncompress(compressed)"
   ]
  },
  {
   "cell_type": "code",
   "execution_count": null,
   "metadata": {},
   "outputs": [],
   "source": []
  }
 ],
 "metadata": {
  "kernelspec": {
   "display_name": "Elixir",
   "language": "Elixir",
   "name": "ielixir"
  },
  "language_info": {
   "codemirror_mode": "elixir",
   "file_extension": "ex",
   "mimetype": "text/x-elixir",
   "name": "elixir",
   "nbconvert_exporter": "",
   "pygments_lexer": "elixir",
   "version": "1.7.4"
  }
 },
 "nbformat": 4,
 "nbformat_minor": 2
}
