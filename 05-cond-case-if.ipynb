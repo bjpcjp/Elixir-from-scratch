{
 "cells": [
  {
   "cell_type": "markdown",
   "metadata": {},
   "source": [
    "# Elixir - Case, Cond, If"
   ]
  },
  {
   "cell_type": "markdown",
   "metadata": {},
   "source": [
    "### case: compares values to patterns until a match is found."
   ]
  },
  {
   "cell_type": "code",
   "execution_count": 1,
   "metadata": {},
   "outputs": [
    {
     "name": "stderr",
     "output_type": "stream",
     "text": [
      "\u001b[33mwarning: \u001b[0mvariable \"x\" is unused\n",
      "  nofile:3\n",
      "\n"
     ]
    },
    {
     "data": {
      "text/plain": [
       "\"match and binds x to 2\""
      ]
     },
     "execution_count": 1,
     "metadata": {},
     "output_type": "execute_result"
    }
   ],
   "source": [
    "case {1, 2, 3} do\n",
    "  {4, 5, 6} -> \"no matches\"\n",
    "  {1, x, 3} -> \"match and binds x to 2\"\n",
    "  _ -> \"matches any value\"\n",
    "end"
   ]
  },
  {
   "cell_type": "code",
   "execution_count": 2,
   "metadata": {},
   "outputs": [
    {
     "data": {
      "text/plain": [
       "\"default match\""
      ]
     },
     "execution_count": 2,
     "metadata": {},
     "output_type": "execute_result"
    }
   ],
   "source": [
    "# pattern matching against an existing variable - use ^.\n",
    "x = 1\n",
    "case 10 do \n",
    "  ^x -> \"no match\"\n",
    "  _  -> \"default match\"\n",
    "  end"
   ]
  },
  {
   "cell_type": "markdown",
   "metadata": {},
   "source": [
    "### clauses allow extra conditions to be specified via [guards](https://hexdocs.pm/elixir/guards.html):"
   ]
  },
  {
   "cell_type": "code",
   "execution_count": 3,
   "metadata": {},
   "outputs": [
    {
     "data": {
      "text/plain": [
       "\"should match\""
      ]
     },
     "execution_count": 3,
     "metadata": {},
     "output_type": "execute_result"
    }
   ],
   "source": [
    "case {1,2,3} do\n",
    "  {1,x,3} when x>0 -> \"should match\"\n",
    "  _ -> \"match if guard condition not met\"\n",
    "  end"
   ]
  },
  {
   "cell_type": "code",
   "execution_count": 4,
   "metadata": {},
   "outputs": [
    {
     "ename": "ArgumentError",
     "evalue": "1",
     "output_type": "error",
     "traceback": [
      "** (ArgumentError) \"argument error\""
     ]
    }
   ],
   "source": [
    "# errors in guards don't leak. they simply make the guard fail.\n",
    "hd(1)"
   ]
  },
  {
   "cell_type": "code",
   "execution_count": 4,
   "metadata": {},
   "outputs": [
    {
     "data": {
      "text/plain": [
       "\"got 1\""
      ]
     },
     "execution_count": 4,
     "metadata": {},
     "output_type": "execute_result"
    }
   ],
   "source": [
    "case 1 do\n",
    "  x when hd(x) -> \"no match\"\n",
    "  x -> \"got #{x}\"\n",
    "  end"
   ]
  },
  {
   "cell_type": "code",
   "execution_count": 5,
   "metadata": {},
   "outputs": [
    {
     "ename": "CaseClauseError",
     "evalue": "1",
     "output_type": "error",
     "traceback": [
      "** %CaseClauseError{term: :ok}"
     ]
    }
   ],
   "source": [
    "# if no clauses match, error raised:\n",
    "case :ok do\n",
    "  :error -> \"no match\"\n",
    "  end"
   ]
  },
  {
   "cell_type": "code",
   "execution_count": 1,
   "metadata": {},
   "outputs": [
    {
     "data": {
      "text/plain": [
       "4"
      ]
     },
     "execution_count": 1,
     "metadata": {},
     "output_type": "execute_result"
    }
   ],
   "source": [
    "# anonymous functions can have multiple clauses & guards:\n",
    "\n",
    "f = fn\n",
    "   x, y when x > 0 -> x + y\n",
    "   x, y -> x * y\n",
    "   end\n",
    "   \n",
    "f.(1,3)"
   ]
  },
  {
   "cell_type": "code",
   "execution_count": 2,
   "metadata": {},
   "outputs": [
    {
     "data": {
      "text/plain": [
       "-3"
      ]
     },
     "execution_count": 2,
     "metadata": {},
     "output_type": "execute_result"
    }
   ],
   "source": [
    "f.(-1,3)"
   ]
  },
  {
   "cell_type": "code",
   "execution_count": 3,
   "metadata": {},
   "outputs": [
    {
     "ename": "CompileError",
     "evalue": "1",
     "output_type": "error",
     "traceback": [
      "** (CompileError) console:3 \"cannot mix clauses with different arities in anonymous functions\""
     ]
    }
   ],
   "source": [
    "# number of arguments in each clause needs to be the same:\n",
    "\n",
    "f2 = fn\n",
    "  x, y when x>0 -> x+y\n",
    "  x, y, z -> x*y+z\n",
    "  end"
   ]
  },
  {
   "cell_type": "markdown",
   "metadata": {},
   "source": [
    "### cond\n",
    "* use when you need to find the first condition that returns true. if no clauses return true, CondClauseError is raised."
   ]
  },
  {
   "cell_type": "code",
   "execution_count": 3,
   "metadata": {},
   "outputs": [
    {
     "data": {
      "text/plain": [
       "\"winner winner chicken dinner\""
      ]
     },
     "execution_count": 3,
     "metadata": {},
     "output_type": "execute_result"
    }
   ],
   "source": [
    "cond do\n",
    "  2+2 == 5 -> \"not even close to true\"\n",
    "  2*2 == 3 -> \"nope, try again\"\n",
    "  1+1 == 2 -> \"winner winner chicken dinner\"\n",
    "  end\n",
    "  "
   ]
  },
  {
   "cell_type": "code",
   "execution_count": 4,
   "metadata": {},
   "outputs": [
    {
     "data": {
      "text/plain": [
       "\"okay\""
      ]
     },
     "execution_count": 4,
     "metadata": {},
     "output_type": "execute_result"
    }
   ],
   "source": [
    "cond do\n",
    "  2+2 == 5 -> \"not even close to true\"\n",
    "  2*2 == 3 -> \"nope, try again\"\n",
    "  1+1 == 3 -> \"seriously?\"\n",
    "  true -> \"okay\"\n",
    "  end"
   ]
  },
  {
   "cell_type": "code",
   "execution_count": 5,
   "metadata": {},
   "outputs": [
    {
     "data": {
      "text/plain": [
       "\"1 is okay\""
      ]
     },
     "execution_count": 5,
     "metadata": {},
     "output_type": "execute_result"
    }
   ],
   "source": [
    "# cond uses any value besides nil & false as true.\n",
    "\n",
    "cond do hd([1,2,3]) -> \"1 is okay\"\n",
    "end"
   ]
  },
  {
   "cell_type": "markdown",
   "metadata": {},
   "source": [
    "### if and unless\n",
    "* best used for checking only one condition."
   ]
  },
  {
   "cell_type": "code",
   "execution_count": 6,
   "metadata": {},
   "outputs": [
    {
     "data": {
      "text/plain": [
       "\"this works\""
      ]
     },
     "execution_count": 6,
     "metadata": {},
     "output_type": "execute_result"
    }
   ],
   "source": [
    "if true do \"this works\" end"
   ]
  },
  {
   "cell_type": "code",
   "execution_count": 7,
   "metadata": {},
   "outputs": [
    {
     "data": {
      "text/plain": [
       "nil"
      ]
     },
     "execution_count": 7,
     "metadata": {},
     "output_type": "execute_result"
    }
   ],
   "source": [
    "unless true do \"this never works\" end"
   ]
  },
  {
   "cell_type": "markdown",
   "metadata": {},
   "source": [
    "### do/end blocks\n",
    "* do/end is syntax sugar."
   ]
  },
  {
   "cell_type": "code",
   "execution_count": 8,
   "metadata": {},
   "outputs": [
    {
     "data": {
      "text/plain": [
       "3"
      ]
     },
     "execution_count": 8,
     "metadata": {},
     "output_type": "execute_result"
    }
   ],
   "source": [
    "# another syntax for writing if statements:\n",
    "if true, do: 1+2"
   ]
  },
  {
   "cell_type": "code",
   "execution_count": 9,
   "metadata": {},
   "outputs": [
    {
     "data": {
      "text/plain": [
       ":that"
      ]
     },
     "execution_count": 9,
     "metadata": {},
     "output_type": "execute_result"
    }
   ],
   "source": [
    "# using the else clause:\n",
    "if false, do: :this, else: :that"
   ]
  }
 ],
 "metadata": {
  "kernelspec": {
   "display_name": "Elixir",
   "language": "Elixir",
   "name": "ielixir"
  },
  "language_info": {
   "codemirror_mode": "elixir",
   "file_extension": "ex",
   "mimetype": "text/x-elixir",
   "name": "elixir",
   "nbconvert_exporter": "",
   "pygments_lexer": "elixir",
   "version": "1.7.4"
  }
 },
 "nbformat": 4,
 "nbformat_minor": 2
}
