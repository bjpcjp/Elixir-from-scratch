{
 "cells": [
  {
   "cell_type": "markdown",
   "metadata": {},
   "source": [
    "# Elixir: protocols\n",
    "* Protocols are a mechanism to achieve polymorphism in Elixir. Dispatching on a protocol is available to any data type as long as it implements the protocol.\n",
    "\n",
    "* In Elixir, we have two idioms for the #items in a data structure: length and size. length means the information must be computed. For example, length(list) needs to traverse the whole list. tuple_size(tuple) and byte_size(binary) do not depend on the tuple and binary size as the size information is pre-computed in the data structure.\n",
    "\n",
    "* Even if we have type-specific functions for getting the size built into Elixir (such as tuple_size/1), we could create a generic Size protocol."
   ]
  },
  {
   "cell_type": "code",
   "execution_count": 1,
   "metadata": {},
   "outputs": [
    {
     "data": {
      "text/plain": [
       "{:module, Size, <<70, 79, 82, 49, 0, 0, 18, 88, 66, 69, 65, 77, 65, 116, 85, 56, 0, 0, 2, 103, 0, 0, 0, 50, 11, 69, 108, 105, 120, 105, 114, 46, 83, 105, 122, 101, 8, 95, 95, 105, 110, 102, 111, 95, 95, 7, 99, ...>>, {:__protocol__, 1}}"
      ]
     },
     "execution_count": 1,
     "metadata": {},
     "output_type": "execute_result"
    }
   ],
   "source": [
    "defprotocol Size do\n",
    "  @doc \"Calculates the size (and not the length!) of a data structure\"\n",
    "  def size(data)\n",
    "end"
   ]
  },
  {
   "cell_type": "markdown",
   "metadata": {},
   "source": [
    "* The Size protocol expects a function called size that receives one argument (the data structure we want to know the size of) to be implemented. We can now implement this protocol for the data structures that would have a compliant implementation:"
   ]
  },
  {
   "cell_type": "code",
   "execution_count": 2,
   "metadata": {},
   "outputs": [
    {
     "data": {
      "text/plain": [
       "{:module, Size.Tuple, <<70, 79, 82, 49, 0, 0, 5, 212, 66, 69, 65, 77, 65, 116, 85, 56, 0, 0, 0, 194, 0, 0, 0, 20, 17, 69, 108, 105, 120, 105, 114, 46, 83, 105, 122, 101, 46, 84, 117, 112, 108, 101, 8, 95, 95, 105, 110, ...>>, {:__impl__, 1}}"
      ]
     },
     "execution_count": 2,
     "metadata": {},
     "output_type": "execute_result"
    }
   ],
   "source": [
    "defimpl Size, for: BitString do\n",
    "  def size(string), do: byte_size(string)\n",
    "end\n",
    "\n",
    "defimpl Size, for: Map do\n",
    "  def size(map), do: map_size(map)\n",
    "end\n",
    "\n",
    "defimpl Size, for: Tuple do\n",
    "  def size(tuple), do: tuple_size(tuple)\n",
    "end"
   ]
  },
  {
   "cell_type": "markdown",
   "metadata": {},
   "source": [
    "* Let's see what happens:"
   ]
  },
  {
   "cell_type": "code",
   "execution_count": 3,
   "metadata": {},
   "outputs": [
    {
     "data": {
      "text/plain": [
       "3"
      ]
     },
     "execution_count": 3,
     "metadata": {},
     "output_type": "execute_result"
    }
   ],
   "source": [
    "Size.size(\"foo\")"
   ]
  },
  {
   "cell_type": "code",
   "execution_count": 4,
   "metadata": {},
   "outputs": [
    {
     "data": {
      "text/plain": [
       "2"
      ]
     },
     "execution_count": 4,
     "metadata": {},
     "output_type": "execute_result"
    }
   ],
   "source": [
    "Size.size({:ok, \"hello\"})"
   ]
  },
  {
   "cell_type": "code",
   "execution_count": 5,
   "metadata": {},
   "outputs": [
    {
     "data": {
      "text/plain": [
       "1"
      ]
     },
     "execution_count": 5,
     "metadata": {},
     "output_type": "execute_result"
    }
   ],
   "source": [
    "Size.size(%{label: \"some label\"})"
   ]
  },
  {
   "cell_type": "markdown",
   "metadata": {},
   "source": [
    "* Passing a data type that doesn’t implement the protocol raises an error:"
   ]
  },
  {
   "cell_type": "code",
   "execution_count": 6,
   "metadata": {},
   "outputs": [
    {
     "ename": "Protocol.UndefinedError",
     "evalue": "1",
     "output_type": "error",
     "traceback": [
      "** %Protocol.UndefinedError{description: \"\", protocol: Size, value: [1, 2, 3]}"
     ]
    }
   ],
   "source": [
    "Size.size([1, 2, 3])"
   ]
  },
  {
   "cell_type": "markdown",
   "metadata": {},
   "source": [
    "### Protocols and structs\n",
    "* The power of Elixir’s extensibility comes when protocols and structs are used together.\n",
    "* We previously learned that although structs are maps, they do not share protocol implementations with maps. For example, MapSets (sets based on maps) are implemented as structs. Let’s try to use the Size protocol with a MapSet."
   ]
  },
  {
   "cell_type": "code",
   "execution_count": 6,
   "metadata": {},
   "outputs": [
    {
     "data": {
      "text/plain": [
       "0"
      ]
     },
     "execution_count": 6,
     "metadata": {},
     "output_type": "execute_result"
    }
   ],
   "source": [
    "Size.size(%{})"
   ]
  },
  {
   "cell_type": "code",
   "execution_count": 7,
   "metadata": {},
   "outputs": [
    {
     "data": {
      "text/plain": [
       "#MapSet<[]>"
      ]
     },
     "execution_count": 7,
     "metadata": {},
     "output_type": "execute_result"
    }
   ],
   "source": [
    "set = %MapSet{} = MapSet.new"
   ]
  },
  {
   "cell_type": "code",
   "execution_count": 8,
   "metadata": {},
   "outputs": [
    {
     "ename": "Protocol.UndefinedError",
     "evalue": "1",
     "output_type": "error",
     "traceback": [
      "** %Protocol.UndefinedError{description: \"\", protocol: Size, value: #MapSet<[]>}"
     ]
    }
   ],
   "source": [
    "Size.size(set)"
   ]
  },
  {
   "cell_type": "markdown",
   "metadata": {},
   "source": [
    "* Structs require their own protocol implementation. Since a MapSet has its size precomputed and accessible through MapSet.size, we can define a Size implementation for it."
   ]
  },
  {
   "cell_type": "code",
   "execution_count": 8,
   "metadata": {},
   "outputs": [
    {
     "data": {
      "text/plain": [
       "{:module, Size.MapSet, <<70, 79, 82, 49, 0, 0, 5, 200, 66, 69, 65, 77, 65, 116, 85, 56, 0, 0, 0, 185, 0, 0, 0, 19, 18, 69, 108, 105, 120, 105, 114, 46, 83, 105, 122, 101, 46, 77, 97, 112, 83, 101, 116, 8, 95, 95, 105, ...>>, {:__impl__, 1}}"
      ]
     },
     "execution_count": 8,
     "metadata": {},
     "output_type": "execute_result"
    }
   ],
   "source": [
    "defimpl Size, for: MapSet do\n",
    "  def size(set), do: MapSet.size(set)\n",
    "end"
   ]
  },
  {
   "cell_type": "markdown",
   "metadata": {},
   "source": [
    "* You can design your own semantics for the size of your struct. Not only that, you could use structs to build more robust data types, like queues, and implement all relevant protocols, such as Enumerable and possibly Size, for this data type."
   ]
  },
  {
   "cell_type": "code",
   "execution_count": 9,
   "metadata": {},
   "outputs": [
    {
     "data": {
      "text/plain": [
       "{:module, Size.User, <<70, 79, 82, 49, 0, 0, 5, 164, 66, 69, 65, 77, 65, 116, 85, 56, 0, 0, 0, 181, 0, 0, 0, 19, 16, 69, 108, 105, 120, 105, 114, 46, 83, 105, 122, 101, 46, 85, 115, 101, 114, 8, 95, 95, 105, 110, 102, ...>>, {:__impl__, 1}}"
      ]
     },
     "execution_count": 9,
     "metadata": {},
     "output_type": "execute_result"
    }
   ],
   "source": [
    "defmodule User do\n",
    "  defstruct [:name, :age]\n",
    "end\n",
    "\n",
    "defimpl Size, for: User do\n",
    "  def size(_user), do: 2\n",
    "end"
   ]
  },
  {
   "cell_type": "markdown",
   "metadata": {},
   "source": [
    "### Any\n",
    "* Manually implementing protocols for all types can quickly become tedious. \n",
    "* In such cases, Elixir provides two options: we can explicitly derive the protocol implementation for our types or automatically implement the protocol for all types. In both cases, we need to implement the protocol for Any.\n",
    "\n",
    "#### Deriving"
   ]
  },
  {
   "cell_type": "code",
   "execution_count": 10,
   "metadata": {},
   "outputs": [
    {
     "data": {
      "text/plain": [
       "{:module, Size.Any, <<70, 79, 82, 49, 0, 0, 5, 152, 66, 69, 65, 77, 65, 116, 85, 56, 0, 0, 0, 179, 0, 0, 0, 19, 15, 69, 108, 105, 120, 105, 114, 46, 83, 105, 122, 101, 46, 65, 110, 121, 8, 95, 95, 105, 110, 102, 111, ...>>, {:__impl__, 1}}"
      ]
     },
     "execution_count": 10,
     "metadata": {},
     "output_type": "execute_result"
    }
   ],
   "source": [
    "defimpl Size, for: Any do\n",
    "  def size(_), do: 0\n",
    "end"
   ]
  },
  {
   "cell_type": "markdown",
   "metadata": {},
   "source": [
    "* This isn't useful. For example, it makes no sense to say that the size of a PID or an Integer is 0.\n",
    "* However, should we be fine with the implementation for Any, to use such implementation we would need to tell our struct to explicitly derive the Size protocol."
   ]
  },
  {
   "cell_type": "code",
   "execution_count": 11,
   "metadata": {},
   "outputs": [
    {
     "data": {
      "text/plain": [
       "{:module, OtherUser, <<70, 79, 82, 49, 0, 0, 5, 188, 66, 69, 65, 77, 65, 116, 85, 56, 0, 0, 0, 186, 0, 0, 0, 18, 16, 69, 108, 105, 120, 105, 114, 46, 79, 116, 104, 101, 114, 85, 115, 101, 114, 8, 95, 95, 105, 110, 102, ...>>, %OtherUser{age: nil, name: nil}}"
      ]
     },
     "execution_count": 11,
     "metadata": {},
     "output_type": "execute_result"
    }
   ],
   "source": [
    "defmodule OtherUser do\n",
    "  @derive [Size]\n",
    "  defstruct [:name, :age]\n",
    "end"
   ]
  },
  {
   "cell_type": "markdown",
   "metadata": {},
   "source": [
    "#### Fallback to Any\n",
    "* Another alternative to @derive is to tell the protocol to fallback to Any when an implementation cannot be found. This can be achieved by setting @fallback_to_any to true in the protocol definition."
   ]
  },
  {
   "cell_type": "code",
   "execution_count": 12,
   "metadata": {},
   "outputs": [
    {
     "name": "stderr",
     "output_type": "stream",
     "text": [
      "\u001b[33mwarning: \u001b[0mredefining module Size (current version defined in memory)\n",
      "  nofile:1\n",
      "\n"
     ]
    },
    {
     "data": {
      "text/plain": [
       "{:module, Size, <<70, 79, 82, 49, 0, 0, 17, 104, 66, 69, 65, 77, 65, 116, 85, 56, 0, 0, 2, 68, 0, 0, 0, 47, 11, 69, 108, 105, 120, 105, 114, 46, 83, 105, 122, 101, 8, 95, 95, 105, 110, 102, 111, 95, 95, 7, 99, ...>>, {:__protocol__, 1}}"
      ]
     },
     "execution_count": 12,
     "metadata": {},
     "output_type": "execute_result"
    }
   ],
   "source": [
    "defprotocol Size do\n",
    "  @fallback_to_any true\n",
    "  def size(data)\n",
    "end"
   ]
  },
  {
   "cell_type": "markdown",
   "metadata": {},
   "source": [
    "* For most protocols, raising an error when a protocol is not implemented is the proper behaviour. That said, assuming we have implemented Any as in the previous section:"
   ]
  },
  {
   "cell_type": "code",
   "execution_count": 13,
   "metadata": {},
   "outputs": [
    {
     "name": "stderr",
     "output_type": "stream",
     "text": [
      "\u001b[33mwarning: \u001b[0mredefining module Size.Any (current version defined in memory)\n",
      "  nofile:1\n",
      "\n"
     ]
    },
    {
     "data": {
      "text/plain": [
       "{:module, Size.Any, <<70, 79, 82, 49, 0, 0, 5, 152, 66, 69, 65, 77, 65, 116, 85, 56, 0, 0, 0, 179, 0, 0, 0, 19, 15, 69, 108, 105, 120, 105, 114, 46, 83, 105, 122, 101, 46, 65, 110, 121, 8, 95, 95, 105, 110, 102, 111, ...>>, {:__impl__, 1}}"
      ]
     },
     "execution_count": 13,
     "metadata": {},
     "output_type": "execute_result"
    }
   ],
   "source": [
    "defimpl Size, for: Any do\n",
    "  def size(_), do: 0\n",
    "end"
   ]
  },
  {
   "cell_type": "markdown",
   "metadata": {},
   "source": [
    "### Built-in protocols\n",
    "* For example the Enum module provides many functions that work with any data structure that implements the Enumerable protocol."
   ]
  },
  {
   "cell_type": "code",
   "execution_count": 14,
   "metadata": {},
   "outputs": [
    {
     "data": {
      "text/plain": [
       "[2, 4, 6]"
      ]
     },
     "execution_count": 14,
     "metadata": {},
     "output_type": "execute_result"
    }
   ],
   "source": [
    "Enum.map [1, 2, 3], fn(x) -> x * 2 end"
   ]
  },
  {
   "cell_type": "code",
   "execution_count": 15,
   "metadata": {},
   "outputs": [
    {
     "data": {
      "text/plain": [
       "6"
      ]
     },
     "execution_count": 15,
     "metadata": {},
     "output_type": "execute_result"
    }
   ],
   "source": [
    "Enum.reduce 1..3, 0, fn(x, acc) -> x+acc end"
   ]
  },
  {
   "cell_type": "markdown",
   "metadata": {},
   "source": [
    "* Another useful example is the String.Chars protocol, which specifies how to convert a data structure with characters to a string. It’s exposed via the to_string function."
   ]
  },
  {
   "cell_type": "code",
   "execution_count": 16,
   "metadata": {},
   "outputs": [
    {
     "data": {
      "text/plain": [
       "\"hello\""
      ]
     },
     "execution_count": 16,
     "metadata": {},
     "output_type": "execute_result"
    }
   ],
   "source": [
    "to_string :hello"
   ]
  },
  {
   "cell_type": "markdown",
   "metadata": {},
   "source": [
    "* Notice that string interpolation in Elixir calls the to_string function."
   ]
  },
  {
   "cell_type": "code",
   "execution_count": 17,
   "metadata": {},
   "outputs": [
    {
     "data": {
      "text/plain": [
       "\"age: 25\""
      ]
     },
     "execution_count": 17,
     "metadata": {},
     "output_type": "execute_result"
    }
   ],
   "source": [
    "\"age: #{25}\""
   ]
  },
  {
   "cell_type": "markdown",
   "metadata": {},
   "source": [
    "* This only works because numbers implement the String.Chars protocol. Passing a tuple, for example, will lead to an error."
   ]
  },
  {
   "cell_type": "code",
   "execution_count": 18,
   "metadata": {},
   "outputs": [
    {
     "data": {
      "text/plain": [
       "{1, 2, 3}"
      ]
     },
     "execution_count": 18,
     "metadata": {},
     "output_type": "execute_result"
    }
   ],
   "source": [
    "tuple = {1,2,3}"
   ]
  },
  {
   "cell_type": "code",
   "execution_count": 19,
   "metadata": {},
   "outputs": [
    {
     "ename": "Protocol.UndefinedError",
     "evalue": "1",
     "output_type": "error",
     "traceback": [
      "** %Protocol.UndefinedError{description: \"\", protocol: String.Chars, value: {1, 2, 3}}"
     ]
    }
   ],
   "source": [
    "\"tuple: #{tuple}\""
   ]
  },
  {
   "cell_type": "markdown",
   "metadata": {},
   "source": [
    "* When there is a need to “print” a more complex data structure, one can use the inspect function, based on the Inspect protocol.\n",
    "* The Inspect protocol is used to transform any data structure into a readable textual representation. This is what tools like IEx use to print results."
   ]
  },
  {
   "cell_type": "code",
   "execution_count": 19,
   "metadata": {},
   "outputs": [
    {
     "data": {
      "text/plain": [
       "\"tuple: {1, 2, 3}\""
      ]
     },
     "execution_count": 19,
     "metadata": {},
     "output_type": "execute_result"
    }
   ],
   "source": [
    "\"tuple: #{inspect tuple}\""
   ]
  },
  {
   "cell_type": "markdown",
   "metadata": {},
   "source": [
    "* By convention, whenever the inspected value starts with #, it is representing a data structure in non-valid Elixir syntax. This means the inspect protocol is not reversible as information may be lost along the way."
   ]
  },
  {
   "cell_type": "code",
   "execution_count": 20,
   "metadata": {},
   "outputs": [
    {
     "data": {
      "text/plain": [
       "\"#Function<6.128620087/1 in :erl_eval.expr/5>\""
      ]
     },
     "execution_count": 20,
     "metadata": {},
     "output_type": "execute_result"
    }
   ],
   "source": [
    "inspect &(&1+2)"
   ]
  }
 ],
 "metadata": {
  "kernelspec": {
   "display_name": "Elixir",
   "language": "Elixir",
   "name": "ielixir"
  },
  "language_info": {
   "codemirror_mode": "elixir",
   "file_extension": "ex",
   "mimetype": "text/x-elixir",
   "name": "elixir",
   "nbconvert_exporter": "",
   "pygments_lexer": "elixir",
   "version": "1.7.4"
  }
 },
 "nbformat": 4,
 "nbformat_minor": 2
}
