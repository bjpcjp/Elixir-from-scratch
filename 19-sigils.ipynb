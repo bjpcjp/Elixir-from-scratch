{
 "cells": [
  {
   "cell_type": "markdown",
   "metadata": {},
   "source": [
    "# Elixir: Sigils\n",
    "* Sigils are one of the mechanisms provided by Elixir for using textual representations. Sigils start with the tilde (~) character which is followed by a letter (which identifies the sigil) and then a delimiter; modifiers can be added after the final delimiter."
   ]
  },
  {
   "cell_type": "markdown",
   "metadata": {},
   "source": [
    "### Regular expressions (the [regex module](https://hexdocs.pm/elixir/Regex.html))\n",
    "* The most common sigil is __~r__, which creates regular expressions."
   ]
  },
  {
   "cell_type": "code",
   "execution_count": 1,
   "metadata": {},
   "outputs": [
    {
     "data": {
      "text/plain": [
       "~r/foo|bar/"
      ]
     },
     "execution_count": 1,
     "metadata": {},
     "output_type": "execute_result"
    }
   ],
   "source": [
    "regex = ~r/foo|bar/"
   ]
  },
  {
   "cell_type": "code",
   "execution_count": 2,
   "metadata": {},
   "outputs": [
    {
     "data": {
      "text/plain": [
       "true"
      ]
     },
     "execution_count": 2,
     "metadata": {},
     "output_type": "execute_result"
    }
   ],
   "source": [
    "\"foo\" =~ regex"
   ]
  },
  {
   "cell_type": "code",
   "execution_count": 3,
   "metadata": {},
   "outputs": [
    {
     "data": {
      "text/plain": [
       "false"
      ]
     },
     "execution_count": 3,
     "metadata": {},
     "output_type": "execute_result"
    }
   ],
   "source": [
    "\"bat\" =~ regex"
   ]
  },
  {
   "cell_type": "markdown",
   "metadata": {},
   "source": [
    "* Elixir provides Perl-compatible regular expressions, as implemented by the [PCRE library](http://www.pcre.org/). Regexes also support modifiers. For example, the i modifier makes a regular expression case insensitive."
   ]
  },
  {
   "cell_type": "code",
   "execution_count": 4,
   "metadata": {},
   "outputs": [
    {
     "data": {
      "text/plain": [
       "false"
      ]
     },
     "execution_count": 4,
     "metadata": {},
     "output_type": "execute_result"
    }
   ],
   "source": [
    "\"HELLO\" =~ ~r/hello/"
   ]
  },
  {
   "cell_type": "code",
   "execution_count": 5,
   "metadata": {},
   "outputs": [
    {
     "data": {
      "text/plain": [
       "true"
      ]
     },
     "execution_count": 5,
     "metadata": {},
     "output_type": "execute_result"
    }
   ],
   "source": [
    "\"HELLO\" =~ ~r/hello/i"
   ]
  },
  {
   "cell_type": "markdown",
   "metadata": {},
   "source": [
    "* Sigils support 8 different delimiters, not \"/\":\n",
    "* The rationale is to provide a way to write literals without escaped delimiters. For example, a regular expression with forward slashes like ~r(^https?://) reads arguably better than ~r/^https?:\\/\\//. Similarly, if the regular expression has forward slashes and capturing groups (that use ()), you may then choose double quotes instead of parentheses."
   ]
  },
  {
   "cell_type": "markdown",
   "metadata": {},
   "source": [
    "### Strings\n",
    "* The ~s sigil is used to generate strings, like double quotes. The ~s sigil is useful when a string contains double quotes."
   ]
  },
  {
   "cell_type": "code",
   "execution_count": 6,
   "metadata": {},
   "outputs": [
    {
     "data": {
      "text/plain": [
       "\"this is a string with \\\"double\\\" quotes, not 'single' ones\""
      ]
     },
     "execution_count": 6,
     "metadata": {},
     "output_type": "execute_result"
    }
   ],
   "source": [
    "~s(this is a string with \"double\" quotes, not 'single' ones)"
   ]
  },
  {
   "cell_type": "markdown",
   "metadata": {},
   "source": [
    "### Char lists\n",
    "* The ~c sigil is useful for generating char lists that contain single quotes:"
   ]
  },
  {
   "cell_type": "code",
   "execution_count": 7,
   "metadata": {},
   "outputs": [
    {
     "data": {
      "text/plain": [
       "'this is a char list containing \\'single quotes\\''"
      ]
     },
     "execution_count": 7,
     "metadata": {},
     "output_type": "execute_result"
    }
   ],
   "source": [
    "~c(this is a char list containing 'single quotes')"
   ]
  },
  {
   "cell_type": "markdown",
   "metadata": {},
   "source": [
    "### Word lists\n",
    "* The ~w sigil is used to generate lists of words (words are just regular strings). Inside the ~w sigil, words are separated by whitespace.\n",
    "* The ~w sigil also accepts the c, s and a modifiers (for char lists, strings, and atoms, respectively), which specify the data type of the elements of the resulting list."
   ]
  },
  {
   "cell_type": "code",
   "execution_count": 8,
   "metadata": {},
   "outputs": [
    {
     "data": {
      "text/plain": [
       "[\"foo\", \"bar\", \"bat\"]"
      ]
     },
     "execution_count": 8,
     "metadata": {},
     "output_type": "execute_result"
    }
   ],
   "source": [
    "~w(foo bar bat)"
   ]
  },
  {
   "cell_type": "code",
   "execution_count": 9,
   "metadata": {},
   "outputs": [
    {
     "data": {
      "text/plain": [
       "[:foo, :bar, :bat]"
      ]
     },
     "execution_count": 9,
     "metadata": {},
     "output_type": "execute_result"
    }
   ],
   "source": [
    "~w(foo bar bat)a"
   ]
  },
  {
   "cell_type": "markdown",
   "metadata": {},
   "source": [
    "### Interpolation & escaping in sigils\n",
    "* Elixir also supports uppercase sigils to deal with escaping characters and interpolation. While both ~s and ~S will return strings, the former allows escape codes and interpolation. The latter does not."
   ]
  },
  {
   "cell_type": "code",
   "execution_count": 10,
   "metadata": {},
   "outputs": [
    {
     "data": {
      "text/plain": [
       "\"String with escape codes & interpolation\""
      ]
     },
     "execution_count": 10,
     "metadata": {},
     "output_type": "execute_result"
    }
   ],
   "source": [
    "~s(String with escape codes \\x26 #{\"inter\" <> \"polation\"})"
   ]
  },
  {
   "cell_type": "code",
   "execution_count": 11,
   "metadata": {},
   "outputs": [
    {
     "data": {
      "text/plain": [
       "\"String without escape codes \\\\x26 without \\#{interpolation}\""
      ]
     },
     "execution_count": 11,
     "metadata": {},
     "output_type": "execute_result"
    }
   ],
   "source": [
    "~S(String without escape codes \\x26 without #{interpolation})"
   ]
  },
  {
   "cell_type": "markdown",
   "metadata": {},
   "source": [
    "The following escape codes can be used in strings and char lists:\n",
    "\n",
    "\\\\ – single backslash\n",
    "\\a – bell/alert\n",
    "\\b – backspace\n",
    "\\d - delete\n",
    "\\e - escape\n",
    "\\f - form feed\n",
    "\\n – newline\n",
    "\\r – carriage return\n",
    "\\s – space\n",
    "\\t – tab\n",
    "\\v – vertical tab\n",
    "\\0 - null byte\n",
    "\\xDD - represents a single byte in hexadecimal (such as \\x13)\n",
    "\\uDDDD and \\u{D...} - represents a Unicode codepoint in hexadecimal (such as \\u{1F600})"
   ]
  },
  {
   "cell_type": "markdown",
   "metadata": {},
   "source": [
    "* A double quote inside a double-quoted string needs to be escaped as \\\".\n",
    "* A single quote inside a single-quoted char list needs to be escaped as \\'. \n",
    "* It is better style to change delimiters as seen above than to escape them."
   ]
  },
  {
   "cell_type": "markdown",
   "metadata": {},
   "source": [
    "### Heredocs\n",
    "* Sigils also support heredocs, that is, triple double- or single-quotes as separators.\n",
    "* The most common use case for heredoc sigils is writing documentation. For example, writing escape characters in the documentation would soon become error prone because of the need to double-escape some characters."
   ]
  },
  {
   "cell_type": "code",
   "execution_count": 12,
   "metadata": {},
   "outputs": [
    {
     "data": {
      "text/plain": [
       "\"this is a heredoc string\\n\""
      ]
     },
     "execution_count": 12,
     "metadata": {},
     "output_type": "execute_result"
    }
   ],
   "source": [
    "~s\"\"\"\n",
    "this is a heredoc string\n",
    "\"\"\""
   ]
  },
  {
   "cell_type": "markdown",
   "metadata": {},
   "source": [
    "### Custom sigils\n",
    "* Elixir sigils are extensible. Using the sigil ~r/foo/i is equivalent to calling sigil_r with a binary and a char list as the argument."
   ]
  },
  {
   "cell_type": "code",
   "execution_count": 13,
   "metadata": {},
   "outputs": [
    {
     "data": {
      "text/plain": [
       "~r/foo/i"
      ]
     },
     "execution_count": 13,
     "metadata": {},
     "output_type": "execute_result"
    }
   ],
   "source": [
    "sigil_r(<<\"foo\">>, 'i')"
   ]
  },
  {
   "cell_type": "markdown",
   "metadata": {},
   "source": [
    "* Accessing the documentation for the ~r sigil:"
   ]
  },
  {
   "cell_type": "code",
   "execution_count": 14,
   "metadata": {},
   "outputs": [
    {
     "name": "stdout",
     "output_type": "stream",
     "text": [
      "\u001b[0m\n",
      "\u001b[7m\u001b[33m                       defmacro sigil_r(term, modifiers)                        \u001b[0m\n",
      "\u001b[0m\n",
      "Handles the sigil \u001b[36m~r\u001b[0m for regular expressions.\n",
      "\u001b[0m\n",
      "It returns a regular expression pattern, unescaping characters and replacing\n",
      "interpolations.\n",
      "\u001b[0m\n",
      "More information on regular expressions can be found in the \u001b[36mRegex\u001b[0m module.\n",
      "\u001b[0m\n",
      "\u001b[33m## Examples\u001b[0m\n",
      "\u001b[0m\n",
      "\u001b[36m    iex> Regex.match?(~r(foo), \"foo\")\n",
      "    true\n",
      "    \n",
      "    iex> Regex.match?(~r/abc/, \"abc\")\n",
      "    true\u001b[0m\n",
      "\u001b[0m\n"
     ]
    }
   ],
   "source": [
    "h sigil_r"
   ]
  },
  {
   "cell_type": "markdown",
   "metadata": {},
   "source": [
    "* We can provide our own sigils by building functions that follow the sigil_{identifier} pattern.\n",
    "* Let’s build the ~i sigil that returns an integer (with the optional n modifier to make it negative)."
   ]
  },
  {
   "cell_type": "code",
   "execution_count": 15,
   "metadata": {},
   "outputs": [
    {
     "data": {
      "text/plain": [
       "{:module, MySigils, <<70, 79, 82, 49, 0, 0, 4, 156, 66, 69, 65, 77, 65, 116, 85, 56, 0, 0, 0, 150, 0, 0, 0, 15, 15, 69, 108, 105, 120, 105, 114, 46, 77, 121, 83, 105, 103, 105, 108, 115, 8, 95, 95, 105, 110, 102, 111, ...>>, {:sigil_i, 2}}"
      ]
     },
     "execution_count": 15,
     "metadata": {},
     "output_type": "execute_result"
    }
   ],
   "source": [
    "defmodule MySigils do\n",
    "  def sigil_i(string, []), do: String.to_integer(string)\n",
    "  def sigil_i(string, [?n]), do: -String.to_integer(string)\n",
    "  end"
   ]
  },
  {
   "cell_type": "code",
   "execution_count": 16,
   "metadata": {},
   "outputs": [
    {
     "data": {
      "text/plain": [
       "MySigils"
      ]
     },
     "execution_count": 16,
     "metadata": {},
     "output_type": "execute_result"
    }
   ],
   "source": [
    "import MySigils"
   ]
  },
  {
   "cell_type": "code",
   "execution_count": 17,
   "metadata": {},
   "outputs": [
    {
     "data": {
      "text/plain": [
       "13"
      ]
     },
     "execution_count": 17,
     "metadata": {},
     "output_type": "execute_result"
    }
   ],
   "source": [
    "~i(13)"
   ]
  },
  {
   "cell_type": "code",
   "execution_count": 18,
   "metadata": {},
   "outputs": [
    {
     "data": {
      "text/plain": [
       "-42"
      ]
     },
     "execution_count": 18,
     "metadata": {},
     "output_type": "execute_result"
    }
   ],
   "source": [
    "~i(42)n"
   ]
  },
  {
   "cell_type": "markdown",
   "metadata": {},
   "source": [
    "* Sigils can be used to do compile-time work with the help of macros. \n",
    "* For example, regular expressions in Elixir are compiled into an efficient representation during compilation of the source code, therefore skipping this step at runtime. If you’re interested in the subject, we recommend you learn more about macros and check out how sigils are implemented in the Kernel module (where the sigil_* functions are defined)."
   ]
  },
  {
   "cell_type": "code",
   "execution_count": null,
   "metadata": {},
   "outputs": [],
   "source": []
  }
 ],
 "metadata": {
  "kernelspec": {
   "display_name": "Elixir",
   "language": "Elixir",
   "name": "ielixir"
  },
  "language_info": {
   "codemirror_mode": "elixir",
   "file_extension": "ex",
   "mimetype": "text/x-elixir",
   "name": "elixir",
   "nbconvert_exporter": "",
   "pygments_lexer": "elixir",
   "version": "1.7.4"
  }
 },
 "nbformat": 4,
 "nbformat_minor": 2
}
