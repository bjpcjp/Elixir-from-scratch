{
 "cells": [
  {
   "cell_type": "markdown",
   "metadata": {},
   "source": [
    "# Elixir: Enumerables & Streams\n",
    "* The [Enum module](https://hexdocs.pm/elixir/Enum.html) provides a huge range of functions to transform, sort, group, filter and retrieve items from enumerables. It is one of the modules developers use frequently in their Elixir code."
   ]
  },
  {
   "cell_type": "code",
   "execution_count": 1,
   "metadata": {},
   "outputs": [
    {
     "data": {
      "text/plain": [
       "[2, 4, 6]"
      ]
     },
     "execution_count": 1,
     "metadata": {},
     "output_type": "execute_result"
    }
   ],
   "source": [
    "# Elixir provides ranges:\n",
    "Enum.map(1..3, fn x -> x*2 end)"
   ]
  },
  {
   "cell_type": "code",
   "execution_count": 2,
   "metadata": {},
   "outputs": [
    {
     "data": {
      "text/plain": [
       "6"
      ]
     },
     "execution_count": 2,
     "metadata": {},
     "output_type": "execute_result"
    }
   ],
   "source": [
    "Enum.reduce(1..3, 0, &+/2)"
   ]
  },
  {
   "cell_type": "markdown",
   "metadata": {},
   "source": [
    "* For operations like inserting and updating particular elements, you may need modules specific to the data type. For example, if you want to insert an element at a given position in a list, you should use the List.insert_at/3 function from the [List module](https://hexdocs.pm/elixir/List.html), as it would make little sense to insert a value into, for example, a range.\n",
    "\n",
    "* Enum functions are __polymorphic__ - they can work with diverse data types.For now we are going to move on to a specific kind of enumerable called a stream."
   ]
  },
  {
   "cell_type": "markdown",
   "metadata": {},
   "source": [
    "### Eager vs Lazy evaluation\n",
    "* All Enum functions are eager. Most expect an enumerable and return a list."
   ]
  },
  {
   "cell_type": "code",
   "execution_count": 3,
   "metadata": {},
   "outputs": [
    {
     "data": {
      "text/plain": [
       "[1, 3]"
      ]
     },
     "execution_count": 3,
     "metadata": {},
     "output_type": "execute_result"
    }
   ],
   "source": [
    "odd? = &(rem(&1, 2) != 0)\n",
    "\n",
    "Enum.filter(1..3, odd?)"
   ]
  },
  {
   "cell_type": "markdown",
   "metadata": {},
   "source": [
    "* When performing multiple operations with Enum, each operation is going to generate an intermediate list until we reach the result."
   ]
  },
  {
   "cell_type": "code",
   "execution_count": 4,
   "metadata": {},
   "outputs": [
    {
     "data": {
      "text/plain": [
       "7500000000"
      ]
     },
     "execution_count": 4,
     "metadata": {},
     "output_type": "execute_result"
    }
   ],
   "source": [
    "total_sum = 1..100_000 |> Enum.map(&(&1 * 3)) |> \n",
    "\n",
    "Enum.filter(odd?) |> Enum.sum"
   ]
  },
  {
   "cell_type": "markdown",
   "metadata": {},
   "source": [
    "* The example above is a __pipelined operation__. We multiply each element in the range by 3. This first operation creates & returns a list with 100_000 items. Then we keep all odd elements from the list, generating a new list, now with 50_000 items, and then we sum all entries."
   ]
  },
  {
   "cell_type": "markdown",
   "metadata": {},
   "source": [
    "### [Pipe operator](https://hexdocs.pm/elixir/Kernel.html#%7C%3E/2)\n",
    "* The __|> symbol__ is the pipe operator. It passes the left-side result as the first argument to the function call on its right side, similar to the Unix | operator. Its purpose is to highlight the data being transformed by a series of functions. \n",
    "\n",
    "* To see how it can make the code cleaner, look at the example above rewritten without using the |> operator."
   ]
  },
  {
   "cell_type": "code",
   "execution_count": 5,
   "metadata": {},
   "outputs": [
    {
     "data": {
      "text/plain": [
       "7500000000"
      ]
     },
     "execution_count": 5,
     "metadata": {},
     "output_type": "execute_result"
    }
   ],
   "source": [
    "Enum.sum(Enum.filter(Enum.map(1..100_000, &(&1 * 3)), odd?))"
   ]
  },
  {
   "cell_type": "markdown",
   "metadata": {},
   "source": [
    "### [Streams](https://hexdocs.pm/elixir/Stream.html)\n",
    "* Elixir provides the Stream module which supports lazy operations. Streams are lazy, composable enumerables."
   ]
  },
  {
   "cell_type": "code",
   "execution_count": 7,
   "metadata": {},
   "outputs": [
    {
     "data": {
      "text/plain": [
       "7500000000"
      ]
     },
     "execution_count": 7,
     "metadata": {},
     "output_type": "execute_result"
    }
   ],
   "source": [
    "# 1..100_000 |> Stream.map(&(&1 * 3)) returns a stream\n",
    "# that represents the map computation over the range 1..100_000:\n",
    "\n",
    "1..100_000 |> Stream.map(&(&1 * 3)) |> Stream.filter(odd?) |> Enum.sum"
   ]
  },
  {
   "cell_type": "code",
   "execution_count": 8,
   "metadata": {},
   "outputs": [
    {
     "data": {
      "text/plain": [
       "#Stream<[enum: 1..100000, funs: [#Function<48.2459763/1 in Stream.map/2>]]>"
      ]
     },
     "execution_count": 8,
     "metadata": {},
     "output_type": "execute_result"
    }
   ],
   "source": [
    "1..100_000 |> Stream.map(&(&1 * 3))"
   ]
  },
  {
   "cell_type": "code",
   "execution_count": 9,
   "metadata": {},
   "outputs": [
    {
     "data": {
      "text/plain": [
       "#Stream<[enum: 1..100000, funs: [#Function<48.2459763/1 in Stream.map/2>, #Function<40.2459763/1 in Stream.filter/2>]]>"
      ]
     },
     "execution_count": 9,
     "metadata": {},
     "output_type": "execute_result"
    }
   ],
   "source": [
    "1..100_000 |> Stream.map(&(&1 * 3)) |> Stream.filter(odd?)"
   ]
  },
  {
   "cell_type": "markdown",
   "metadata": {},
   "source": [
    "* Streams build a series of computations that are invoked only when we pass the underlying stream to the Enum module (instead of building interim lists). Streams are useful when working with large, possibly infinite, collections.\n",
    "* Many Stream functions accept any enumerable as an argument and return a stream as a result. The module also provides functions for creating streams. For example, Stream.cycle/1 can create a stream that cycles a given enumerable infinitely. Be careful to not call a function like Enum.map/2 on such streams, as they would cycle forever!"
   ]
  },
  {
   "cell_type": "code",
   "execution_count": 10,
   "metadata": {},
   "outputs": [
    {
     "data": {
      "text/plain": [
       "#Function<64.2459763/2 in Stream.unfold/2>"
      ]
     },
     "execution_count": 10,
     "metadata": {},
     "output_type": "execute_result"
    }
   ],
   "source": [
    "stream = Stream.cycle([1, 2, 3])"
   ]
  },
  {
   "cell_type": "code",
   "execution_count": 11,
   "metadata": {},
   "outputs": [
    {
     "data": {
      "text/plain": [
       "[1, 2, 3, 1, 2, 3, 1, 2, 3, 1]"
      ]
     },
     "execution_count": 11,
     "metadata": {},
     "output_type": "execute_result"
    }
   ],
   "source": [
    "Enum.take(stream, 10)"
   ]
  },
  {
   "cell_type": "markdown",
   "metadata": {},
   "source": [
    "* Stream.unfold/2 can be used to generate values from a given initial value."
   ]
  },
  {
   "cell_type": "code",
   "execution_count": 12,
   "metadata": {},
   "outputs": [
    {
     "data": {
      "text/plain": [
       "#Function<64.2459763/2 in Stream.unfold/2>"
      ]
     },
     "execution_count": 12,
     "metadata": {},
     "output_type": "execute_result"
    }
   ],
   "source": [
    "stream = Stream.unfold(\"hełło\", &String.next_codepoint/1)"
   ]
  },
  {
   "cell_type": "code",
   "execution_count": 13,
   "metadata": {},
   "outputs": [
    {
     "data": {
      "text/plain": [
       "[\"h\", \"e\", \"ł\"]"
      ]
     },
     "execution_count": 13,
     "metadata": {},
     "output_type": "execute_result"
    }
   ],
   "source": [
    "Enum.take(stream, 3)"
   ]
  },
  {
   "cell_type": "markdown",
   "metadata": {},
   "source": [
    "* Stream.resource/3 can be used to wrap around resources, guaranteeing they are opened right before enumeration and closed afterwards, even in the case of failures. For example, we can use it to stream a file."
   ]
  },
  {
   "cell_type": "code",
   "execution_count": 14,
   "metadata": {},
   "outputs": [
    {
     "data": {
      "text/plain": [
       "%File.Stream{line_or_bytes: :line, modes: [:raw, :read_ahead, :binary], path: \"some-text-file.txt\", raw: true}"
      ]
     },
     "execution_count": 14,
     "metadata": {},
     "output_type": "execute_result"
    }
   ],
   "source": [
    "stream = File.stream!(\"some-text-file.txt\")"
   ]
  },
  {
   "cell_type": "code",
   "execution_count": 15,
   "metadata": {},
   "outputs": [
    {
     "data": {
      "text/plain": [
       "nil"
      ]
     },
     "execution_count": 15,
     "metadata": {},
     "output_type": "execute_result"
    }
   ],
   "source": [
    "# fetches first 10 lines of specified file\n",
    "#Enum.take(stream, 10)"
   ]
  },
  {
   "cell_type": "markdown",
   "metadata": {},
   "source": [
    "* The Enum and Stream modules can be daunting at first, but you will get familiar with them case by case. Focus on the Enum module first, then move to Stream for scenarios where laziness is required, to either deal with slow resources or large, possibly infinite, collections."
   ]
  },
  {
   "cell_type": "code",
   "execution_count": null,
   "metadata": {},
   "outputs": [],
   "source": []
  }
 ],
 "metadata": {
  "kernelspec": {
   "display_name": "Elixir",
   "language": "Elixir",
   "name": "ielixir"
  },
  "language_info": {
   "codemirror_mode": "elixir",
   "file_extension": "ex",
   "mimetype": "text/x-elixir",
   "name": "elixir",
   "nbconvert_exporter": "",
   "pygments_lexer": "elixir",
   "version": "1.7.4"
  }
 },
 "nbformat": 4,
 "nbformat_minor": 2
}
