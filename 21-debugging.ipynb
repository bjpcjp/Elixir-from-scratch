{
 "cells": [
  {
   "cell_type": "markdown",
   "metadata": {},
   "source": [
    "# Elixir: debugging"
   ]
  },
  {
   "cell_type": "markdown",
   "metadata": {},
   "source": [
    "### `IO.inspect/2`\n",
    "\n",
    "`IO.inspect(item, opts \\\\ [])` returns the item argument passed to it without affecting the behavior of the original code. Therefore you can “spy” on values almost anywhere in your code without altering the result, making it very helpful inside of a pipeline."
   ]
  },
  {
   "cell_type": "code",
   "execution_count": 1,
   "metadata": {},
   "outputs": [],
   "source": [
    "(1..10)\n",
    "|> IO.inspect\n",
    "|> Enum.map(fn x -> x*2 end)\n",
    "|> IO.inspect\n",
    "|> Enum.sum\n",
    "|> IO.inspect"
   ]
  },
  {
   "cell_type": "markdown",
   "metadata": {},
   "source": [
    "`IO.inspect/2` also provides the ability to decorate the output with a `label` option. The label will be printed before the inspected item."
   ]
  },
  {
   "cell_type": "code",
   "execution_count": 2,
   "metadata": {},
   "outputs": [
    {
     "name": "stdout",
     "output_type": "stream",
     "text": [
      "before: [1, 2, 3]\n",
      "after: [2, 4, 6]\n"
     ]
    },
    {
     "data": {
      "text/plain": [
       "12"
      ]
     },
     "execution_count": 2,
     "metadata": {},
     "output_type": "execute_result"
    }
   ],
   "source": [
    "[1, 2, 3]\n",
    "|> IO.inspect(label: \"before\")\n",
    "|> Enum.map(&(&1 * 2))\n",
    "|> IO.inspect(label: \"after\")\n",
    "|> Enum.sum"
   ]
  },
  {
   "cell_type": "markdown",
   "metadata": {},
   "source": [
    "### `IEx.pry/0` and `IEx.break!/2`\n",
    "\n",
    "While `IO.inspect/2` is static, Elixir’s interactive shell provides more dynamic ways to interact with debugged code.\n",
    "\n",
    "The first one is with `IEx.pry/0` which we can use instead of `IO.inspect binding()`.\n",
    "\n",
    "__NOTE: this example returns ArgumentError: cannot invoke def/2 outside module. Defining a module around this definition does not resolve the issue. Running the code directly n IEx does not resolve it either. Requires further examination.__"
   ]
  },
  {
   "cell_type": "code",
   "execution_count": 3,
   "metadata": {},
   "outputs": [
    {
     "ename": "ArgumentError",
     "evalue": "1",
     "output_type": "error",
     "traceback": [
      "** (ArgumentError) \"cannot invoke def/2 outside module\""
     ]
    }
   ],
   "source": [
    "def thisfun(a,b,c) do\n",
    "  require IEx; IEx.pry\n",
    "  ...\n",
    "  end"
   ]
  },
  {
   "cell_type": "markdown",
   "metadata": {},
   "source": [
    "Once the code above is executed inside an `iex` session, IEx will ask if we want to pry into the current code. If accepted, we will be able to access all variables, as well as imports and aliases from the code, directly From IEx. While pry is running, the code execution stops, until `continue` is called. Remember you can always run `iex` in the context of a project with `iex -S mix TASK`.\n",
    "\n",
    "Unfortunately, similar to `IO.inspect/2`, `IEx.pry/0` also requires us to change the code we intend to debug. Luckily IEx also provides a `break!/2` function which allows you set and manage breakpoints on any Elixir code without modifying its source. Brief example:\n",
    "\n",
    "![break](pix/break.png)\n",
    "\n",
    "Similar to `IEx.pry/0`, once a breakpoint is reached code execution stops until `continue` is invoked. However, `break!/2` does not have access to aliases and imports from the debugged code as it works on the compiled artifact rather than on source."
   ]
  },
  {
   "cell_type": "markdown",
   "metadata": {},
   "source": [
    "### Debugger\n",
    "\n",
    "For those who enjoy breakpoints but are rather interested in a visual debugger, Erlang/OTP ships with a graphical debugger conveniently named `:debugger`. \n",
    "\n",
    "__TODO: learn how to invoke debugger correctly.__ Online guide suggests using `$iex -S mix` at command line."
   ]
  },
  {
   "cell_type": "code",
   "execution_count": 3,
   "metadata": {},
   "outputs": [
    {
     "data": {
      "text/plain": [
       "{:module, DebugExample, <<70, 79, 82, 49, 0, 0, 4, 228, 66, 69, 65, 77, 65, 116, 85, 56, 0, 0, 0, 149, 0, 0, 0, 16, 19, 69, 108, 105, 120, 105, 114, 46, 68, 101, 98, 117, 103, 69, 120, 97, 109, 112, 108, 101, 8, 95, 95, ...>>, {:hardwork, 2}}"
      ]
     },
     "execution_count": 3,
     "metadata": {},
     "output_type": "execute_result"
    }
   ],
   "source": [
    "defmodule DebugExample do\n",
    "  def doublesum(x,y) do\n",
    "    hardwork(x,y)\n",
    "    end\n",
    "    \n",
    "  defp hardwork(x,y) do\n",
    "    x = 2*x\n",
    "    y = 2*y\n",
    "    x+y\n",
    "    end\n",
    "    end"
   ]
  },
  {
   "cell_type": "markdown",
   "metadata": {},
   "source": [
    "When you start the debugger, a GUI will open on your machine.\n",
    " \n",
    "![debugger](pix/debugger-elixir.gif)"
   ]
  },
  {
   "cell_type": "markdown",
   "metadata": {},
   "source": [
    "### Observer\n",
    "\n",
    "For debugging complex systems, jumping at the code is not enough. It is necessary to have an understanding of the whole virtual machine, processes, applications, as well as set up tracing mechanisms. Erlang provides `:observer` to do this.\n",
    "\n",
    "__TODO: learn how to invoke observer correctly.__ Online guide suggests using `$iex -S mix` at command line.\n",
    "\n",
    "`:observer.start()` opens a navigation GUI.\n",
    "\n",
    "![observer](pix/kv-observer.png)"
   ]
  },
  {
   "cell_type": "markdown",
   "metadata": {},
   "source": [
    "### Other tools\n",
    "\n",
    "* Erlang includes a `:crashdump_viewer` to view crash dumps.\n",
    "* Integration with OS level tracers, such as Linux Trace Toolkit, DTRACE, and SystemTap\n",
    "* [Microstate accounting](http://erlang.org/doc/man/msacc.html) benchmarks how much time the runtime spends in low-level tasks in a short time interval.\n",
    "* Mix includes a profile namespace with tools such as `cprof` and `fprof`.\n",
    "\n",
    "The community has also created its own tools:\n",
    "\n",
    "* [wObserver](https://github.com/shinyscorpion/wObserver) observes production nodes through a web interface.\n",
    "* [visualixir](https://github.com/koudelka/visualixir) is a development-time process message visualizer.\n",
    "* [erlyberly](https://github.com/andytill/erlyberly) is a GUI for tracing during development."
   ]
  },
  {
   "cell_type": "code",
   "execution_count": null,
   "metadata": {},
   "outputs": [],
   "source": []
  }
 ],
 "metadata": {
  "kernelspec": {
   "display_name": "Elixir",
   "language": "Elixir",
   "name": "ielixir"
  },
  "language_info": {
   "codemirror_mode": "elixir",
   "file_extension": "ex",
   "mimetype": "text/x-elixir",
   "name": "elixir",
   "nbconvert_exporter": "",
   "pygments_lexer": "elixir",
   "version": "1.7.4"
  }
 },
 "nbformat": 4,
 "nbformat_minor": 2
}
