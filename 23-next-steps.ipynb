{
 "cells": [
  {
   "cell_type": "markdown",
   "metadata": {},
   "source": [
    "# Elixir: next steps"
   ]
  },
  {
   "cell_type": "markdown",
   "metadata": {},
   "source": [
    "### [Elixir documentation](https://elixir-lang.org/docs.html)\n",
    "\n",
    "Covers Elixir (the standard library), EEx (templating), ExUnit (unit testing), IEx (shell), Logger (logging) and Mix (build tool). Currently at language version 1.7 as of this edit (1/12/2019)."
   ]
  },
  {
   "cell_type": "markdown",
   "metadata": {},
   "source": [
    "### Erlang resources\n",
    "\n",
    "Elixir runs on the Erlang Virtual Machine.\n",
    "\n",
    "[Erlang Crash Course](https://elixir-lang.org/crash-course.html)\n",
    "\n",
    "[Erlang official portal](http://www.erlang.org/course/concurrent-programming)\n",
    "\n",
    "[Learn You Some Erlang](http://learnyousomeerlang.com/)\n",
    "\n",
    "[Hitchhiker's Guide to Concurrency](http://learnyousomeerlang.com/the-hitchhikers-guide-to-concurrency)"
   ]
  },
  {
   "cell_type": "markdown",
   "metadata": {},
   "source": [
    "### Building your first project\n",
    "\n",
    "Elixir ships with a build tool called `Mix`. You can get your new project started by running `$ mix new path/to/new/project`:\n",
    "\n",
    "![firstproject](pix/firstproject.png)\n",
    "\n",
    "[Here is a guide (Intro to mix)](https://elixir-lang.org/getting-started/mix-otp/introduction-to-mix.html) that covers how to build an Elixir application, with its own supervision tree, configuration, tests, and more. The application works as a distributed key-value store where we organize key-value pairs into buckets and distribute those buckets across multiple nodes."
   ]
  },
  {
   "cell_type": "markdown",
   "metadata": {},
   "source": [
    "### [Metaprogramming in Elixir](https://elixir-lang.org/getting-started/meta/quote-and-unquote.html)\n",
    "\n",
    "Most meta-programming in Elixir is done through `macros`, which are very useful in several situations, especially for writing DSLs. [This guide](https://elixir-lang.org/getting-started/meta/quote-and-unquote.html) explains macro mechanics."
   ]
  },
  {
   "cell_type": "code",
   "execution_count": null,
   "metadata": {},
   "outputs": [],
   "source": []
  }
 ],
 "metadata": {
  "kernelspec": {
   "display_name": "Elixir",
   "language": "Elixir",
   "name": "ielixir"
  },
  "language_info": {
   "codemirror_mode": "elixir",
   "file_extension": "ex",
   "mimetype": "text/x-elixir",
   "name": "elixir",
   "nbconvert_exporter": "",
   "pygments_lexer": "elixir",
   "version": "1.7.4"
  }
 },
 "nbformat": 4,
 "nbformat_minor": 2
}
