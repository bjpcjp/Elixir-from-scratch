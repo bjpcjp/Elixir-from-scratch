{
 "cells": [
  {
   "cell_type": "markdown",
   "metadata": {},
   "source": [
    "# Elixir: alias, require, import\n",
    "* Elixir provides three directives (alias, require and import) plus a macro called use to aid reuse."
   ]
  },
  {
   "cell_type": "code",
   "execution_count": 1,
   "metadata": {},
   "outputs": [
    {
     "data": {
      "text/plain": [
       "Foo.Bar"
      ]
     },
     "execution_count": 1,
     "metadata": {},
     "output_type": "execute_result"
    }
   ],
   "source": [
    "# Alias the module so it can be called as Bar instead of Foo.Bar\n",
    "alias Foo.Bar, as: Bar"
   ]
  },
  {
   "cell_type": "code",
   "execution_count": 2,
   "metadata": {},
   "outputs": [
    {
     "ename": "CompileError",
     "evalue": "1",
     "output_type": "error",
     "traceback": [
      "** (CompileError) console:2 \"module Foo is not loaded and could not be found\""
     ]
    }
   ],
   "source": [
    "# Require the module in order to use its macros\n",
    "require Foo"
   ]
  },
  {
   "cell_type": "code",
   "execution_count": 2,
   "metadata": {},
   "outputs": [
    {
     "ename": "CompileError",
     "evalue": "1",
     "output_type": "error",
     "traceback": [
      "** (CompileError) console:2 \"module Foo is not loaded and could not be found\""
     ]
    }
   ],
   "source": [
    "# Import functions from Foo so they can be called without the `Foo.` prefix\n",
    "import Foo"
   ]
  },
  {
   "cell_type": "code",
   "execution_count": 2,
   "metadata": {},
   "outputs": [
    {
     "ename": "CompileError",
     "evalue": "1",
     "output_type": "error",
     "traceback": [
      "** (CompileError) console:2 \"module Foo is not loaded and could not be found\""
     ]
    }
   ],
   "source": [
    "# Invokes the custom code defined in Foo as an extension point\n",
    "use Foo"
   ]
  },
  {
   "cell_type": "markdown",
   "metadata": {},
   "source": [
    "### Alias\n",
    "* Alias allows you to set up aliases for any given module name.\n",
    "* Imagine a module uses a specialized list implemented in Math.List. The alias directive allows referring to Math.List just as List within the module definition."
   ]
  },
  {
   "cell_type": "code",
   "execution_count": 2,
   "metadata": {},
   "outputs": [
    {
     "name": "stderr",
     "output_type": "stream",
     "text": [
      "\u001b[33mwarning: \u001b[0munused alias List\n",
      "  nofile:2\n",
      "\n"
     ]
    },
    {
     "data": {
      "text/plain": [
       "{:module, Stats, <<70, 79, 82, 49, 0, 0, 3, 36, 66, 69, 65, 77, 65, 116, 85, 56, 0, 0, 0, 119, 0, 0, 0, 12, 12, 69, 108, 105, 120, 105, 114, 46, 83, 116, 97, 116, 115, 8, 95, 95, 105, 110, 102, 111, 95, 95, 7, ...>>, Math.List}"
      ]
     },
     "execution_count": 2,
     "metadata": {},
     "output_type": "execute_result"
    }
   ],
   "source": [
    "defmodule Stats do\n",
    "  alias Math.List, as: List\n",
    "  # In the remaining module definition List expands to Math.List.\n",
    "end"
   ]
  },
  {
   "cell_type": "markdown",
   "metadata": {},
   "source": [
    "* Aliases are frequently used to define shortcuts. Calling alias without an :as option sets the alias automatically to the last part of the module name."
   ]
  },
  {
   "cell_type": "code",
   "execution_count": 3,
   "metadata": {},
   "outputs": [
    {
     "data": {
      "text/plain": [
       "Math.List"
      ]
     },
     "execution_count": 3,
     "metadata": {},
     "output_type": "execute_result"
    }
   ],
   "source": [
    "alias Math.List"
   ]
  },
  {
   "cell_type": "code",
   "execution_count": 4,
   "metadata": {},
   "outputs": [
    {
     "data": {
      "text/plain": [
       "Math.List"
      ]
     },
     "execution_count": 4,
     "metadata": {},
     "output_type": "execute_result"
    }
   ],
   "source": [
    "alias Math.List, as: List"
   ]
  },
  {
   "cell_type": "markdown",
   "metadata": {},
   "source": [
    "* alias is lexically scoped, which allows you to set aliases inside specific functions.\n",
    "* Here we are invoking alias inside the function plus. The alias will be valid only inside the function plus. minus won’t be affected at all."
   ]
  },
  {
   "cell_type": "code",
   "execution_count": 8,
   "metadata": {},
   "outputs": [
    {
     "name": "stderr",
     "output_type": "stream",
     "text": [
      "\u001b[33mwarning: \u001b[0mvariable \"a\" is unused\n",
      "  nofile:2\n",
      "\n",
      "\u001b[33mwarning: \u001b[0mvariable \"b\" is unused\n",
      "  nofile:2\n",
      "\n",
      "\u001b[33mwarning: \u001b[0mvariable \"a\" is unused\n",
      "  nofile:7\n",
      "\n",
      "\u001b[33mwarning: \u001b[0mvariable \"b\" is unused\n",
      "  nofile:7\n",
      "\n",
      "\u001b[33mwarning: \u001b[0munused alias List\n",
      "  nofile:3\n",
      "\n"
     ]
    },
    {
     "data": {
      "text/plain": [
       "{:module, Math, <<70, 79, 82, 49, 0, 0, 4, 84, 66, 69, 65, 77, 65, 116, 85, 56, 0, 0, 0, 150, 0, 0, 0, 16, 11, 69, 108, 105, 120, 105, 114, 46, 77, 97, 116, 104, 8, 95, 95, 105, 110, 102, 111, 95, 95, 7, 99, ...>>, {:minus, 2}}"
      ]
     },
     "execution_count": 8,
     "metadata": {},
     "output_type": "execute_result"
    }
   ],
   "source": [
    "defmodule Math do\n",
    "  def plus(a, b) do\n",
    "    alias Math.List\n",
    "    # ...\n",
    "  end\n",
    "\n",
    "  def minus(a, b) do\n",
    "    # ...\n",
    "  end\n",
    "end"
   ]
  },
  {
   "cell_type": "markdown",
   "metadata": {},
   "source": [
    "### Require\n",
    "* Elixir provides macros as a mechanism for meta-programming (writing code that generates code). Macros are expanded at compile time.\n",
    "* Public functions in modules are globally available, but in order to use macros, you need to opt-in by requiring the module they are defined in."
   ]
  },
  {
   "cell_type": "code",
   "execution_count": 9,
   "metadata": {},
   "outputs": [
    {
     "data": {
      "text/plain": [
       "true"
      ]
     },
     "execution_count": 9,
     "metadata": {},
     "output_type": "execute_result"
    }
   ],
   "source": [
    "Integer.is_odd(3)"
   ]
  },
  {
   "cell_type": "code",
   "execution_count": 10,
   "metadata": {},
   "outputs": [
    {
     "data": {
      "text/plain": [
       "Integer"
      ]
     },
     "execution_count": 10,
     "metadata": {},
     "output_type": "execute_result"
    }
   ],
   "source": [
    "require Integer"
   ]
  },
  {
   "cell_type": "code",
   "execution_count": 11,
   "metadata": {},
   "outputs": [
    {
     "data": {
      "text/plain": [
       "true"
      ]
     },
     "execution_count": 11,
     "metadata": {},
     "output_type": "execute_result"
    }
   ],
   "source": [
    "Integer.is_odd(3)"
   ]
  },
  {
   "cell_type": "markdown",
   "metadata": {},
   "source": [
    "* In Elixir, Integer.is_odd is defined as a macro so that it can be used as a guard. This means that, in order to invoke Integer.is_odd, we need to first require the Integer module.\n",
    "* Like the alias directive, require is also lexically scoped. We will talk more about macros in a later chapter."
   ]
  },
  {
   "cell_type": "markdown",
   "metadata": {},
   "source": [
    "### Import\n",
    "* Use import to easily access functions or macros from other modules without using the fully-qualified name. For instance, if we want to use the duplicate function from the List module several times, we can import it.\n",
    "\n",
    "![duplicate-list](pix/duplicate-list.png)\n",
    "\n",
    "* In this case, we only import the function duplicate (with arity 2) from List. Although :only is optional, its usage is recommended in order to avoid importing all the functions of a given module inside the namespace. :except could also be given as an option in order to import everything in a module except a list of functions.\n",
    "\n",
    "* import also supports :macros and :functions to be given to :only. For example, to import all macros:\n",
    "\n",
    "![integer-only-macros](pix/integer-only-macros.png)\n",
    "\n",
    "* To import all functions:\n",
    "\n",
    "![integer-only-functions](pix/integer-only-functions.png)"
   ]
  },
  {
   "cell_type": "markdown",
   "metadata": {},
   "source": [
    "* Note that importing a module automatically requires it."
   ]
  },
  {
   "cell_type": "markdown",
   "metadata": {},
   "source": [
    "### Use\n",
    "* The use macro is frequently used as an extension point. \n",
    "* When you use a module FooBar, you allow that module to inject any code in the current module, such as importing itself or other modules, defining new functions, setting a module state, etc.\n",
    "\n",
    "* For example, in order to write tests using the ExUnit framework, a developer should use the ExUnit.Case module."
   ]
  },
  {
   "cell_type": "code",
   "execution_count": 13,
   "metadata": {},
   "outputs": [
    {
     "data": {
      "text/plain": [
       "nil"
      ]
     },
     "execution_count": 13,
     "metadata": {},
     "output_type": "execute_result"
    }
   ],
   "source": [
    "# TODO"
   ]
  },
  {
   "cell_type": "markdown",
   "metadata": {},
   "source": [
    "### Aliases\n",
    "* An alias is a capitalized identifier (like String, Keyword, etc) which is converted to an atom during compilation. For instance, the String alias translates by default to the atom :\"Elixir.String\"."
   ]
  },
  {
   "cell_type": "code",
   "execution_count": 14,
   "metadata": {},
   "outputs": [
    {
     "data": {
      "text/plain": [
       "true"
      ]
     },
     "execution_count": 14,
     "metadata": {},
     "output_type": "execute_result"
    }
   ],
   "source": [
    "is_atom(String)"
   ]
  },
  {
   "cell_type": "code",
   "execution_count": 15,
   "metadata": {},
   "outputs": [
    {
     "data": {
      "text/plain": [
       "\"Elixir.String\""
      ]
     },
     "execution_count": 15,
     "metadata": {},
     "output_type": "execute_result"
    }
   ],
   "source": [
    "to_string(String)"
   ]
  },
  {
   "cell_type": "code",
   "execution_count": 17,
   "metadata": {},
   "outputs": [
    {
     "data": {
      "text/plain": [
       "true"
      ]
     },
     "execution_count": 17,
     "metadata": {},
     "output_type": "execute_result"
    }
   ],
   "source": [
    ":\"Elixir.String\" == String"
   ]
  },
  {
   "cell_type": "markdown",
   "metadata": {},
   "source": [
    "* Aliases expand to atoms because in the Erlang VM (and consequently Elixir) modules are always represented by atoms. For example, that’s the mechanism we use to call Erlang modules."
   ]
  },
  {
   "cell_type": "code",
   "execution_count": 18,
   "metadata": {},
   "outputs": [
    {
     "data": {
      "text/plain": [
       "[1, 2, 3]"
      ]
     },
     "execution_count": 18,
     "metadata": {},
     "output_type": "execute_result"
    }
   ],
   "source": [
    ":lists.flatten([1, [2], 3])"
   ]
  },
  {
   "cell_type": "markdown",
   "metadata": {},
   "source": [
    "### Module nesting"
   ]
  },
  {
   "cell_type": "code",
   "execution_count": 19,
   "metadata": {},
   "outputs": [
    {
     "data": {
      "text/plain": [
       "{:module, Foo, <<70, 79, 82, 49, 0, 0, 3, 32, 66, 69, 65, 77, 65, 116, 85, 56, 0, 0, 0, 117, 0, 0, 0, 12, 10, 69, 108, 105, 120, 105, 114, 46, 70, 111, 111, 8, 95, 95, 105, 110, 102, 111, 95, 95, 7, 99, 111, ...>>, {:module, Foo.Bar, <<70, 79, 82, 49, 0, 0, 3, 44, 66, 69, 65, 77, 65, 116, 85, 56, 0, 0, 0, 121, 0, 0, 0, 12, 14, 69, 108, 105, 120, 105, 114, 46, 70, 111, 111, 46, 66, 97, 114, 8, 95, 95, 105, ...>>, nil}}"
      ]
     },
     "execution_count": 19,
     "metadata": {},
     "output_type": "execute_result"
    }
   ],
   "source": [
    "defmodule Foo do\n",
    "  defmodule Bar do\n",
    "  end\n",
    "end"
   ]
  },
  {
   "cell_type": "markdown",
   "metadata": {},
   "source": [
    "* This example defines two modules: Foo and Foo.Bar. The second can be accessed as Bar inside Foo as long as they are in the same lexical scope. The code above is exactly the same as:"
   ]
  },
  {
   "cell_type": "code",
   "execution_count": 20,
   "metadata": {},
   "outputs": [
    {
     "name": "stderr",
     "output_type": "stream",
     "text": [
      "\u001b[33mwarning: \u001b[0mredefining module Foo (current version defined in memory)\n",
      "  nofile:1\n",
      "\n",
      "\u001b[33mwarning: \u001b[0mredefining module Foo.Bar (current version defined in memory)\n",
      "  nofile:2\n",
      "\n",
      "\u001b[33mwarning: \u001b[0munused alias Bar\n",
      "  nofile:4\n",
      "\n"
     ]
    },
    {
     "data": {
      "text/plain": [
       "{:module, Foo, <<70, 79, 82, 49, 0, 0, 3, 32, 66, 69, 65, 77, 65, 116, 85, 56, 0, 0, 0, 117, 0, 0, 0, 12, 10, 69, 108, 105, 120, 105, 114, 46, 70, 111, 111, 8, 95, 95, 105, 110, 102, 111, 95, 95, 7, 99, 111, ...>>, Foo.Bar}"
      ]
     },
     "execution_count": 20,
     "metadata": {},
     "output_type": "execute_result"
    }
   ],
   "source": [
    "defmodule Elixir.Foo do\n",
    "  defmodule Elixir.Foo.Bar do\n",
    "  end\n",
    "  alias Elixir.Foo.Bar, as: Bar\n",
    "end"
   ]
  },
  {
   "cell_type": "markdown",
   "metadata": {},
   "source": [
    "### Multiple alias/import/require/use\n",
    "* From Elixir v1.2, it is possible to alias, import or require multiple modules at once. This is useful once we start nesting modules, which is very common when building Elixir applications. \n",
    "* Imagine you have an application where all modules are nested under MyApp, you can alias the modules MyApp.Foo, MyApp.Bar and MyApp.Baz at once."
   ]
  },
  {
   "cell_type": "code",
   "execution_count": 21,
   "metadata": {},
   "outputs": [
    {
     "data": {
      "text/plain": [
       "[MyApp.Foo, MyApp.Bar, MyApp.Baz]"
      ]
     },
     "execution_count": 21,
     "metadata": {},
     "output_type": "execute_result"
    }
   ],
   "source": [
    "alias MyApp.{Foo, Bar, Baz}"
   ]
  },
  {
   "cell_type": "code",
   "execution_count": null,
   "metadata": {},
   "outputs": [],
   "source": []
  }
 ],
 "metadata": {
  "kernelspec": {
   "display_name": "Elixir",
   "language": "Elixir",
   "name": "ielixir"
  },
  "language_info": {
   "codemirror_mode": "elixir",
   "file_extension": "ex",
   "mimetype": "text/x-elixir",
   "name": "elixir",
   "nbconvert_exporter": "",
   "pygments_lexer": "elixir",
   "version": "1.7.4"
  }
 },
 "nbformat": 4,
 "nbformat_minor": 2
}
