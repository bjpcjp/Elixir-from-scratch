{
 "cells": [
  {
   "cell_type": "markdown",
   "metadata": {},
   "source": [
    "# Elixir: Introduction"
   ]
  },
  {
   "cell_type": "markdown",
   "metadata": {},
   "source": [
    "### [Installation](https://elixir-lang.org/install.html)\n",
    "* Post-installation: what version of Elixir?\n",
    "![elixir-v](pix/elixir-v.png)"
   ]
  },
  {
   "attachments": {},
   "cell_type": "markdown",
   "metadata": {},
   "source": [
    "### Interactive Mode:\n",
    "* When you install Elixir, you will have three new executables: iex, elixir and elixirc. If you compiled Elixir from source or are using a packaged version, you can find these inside the bin directory.\n",
    "* Start by running iex (or iex.bat if you are on Windows) which stands for Interactive Elixir. In interactive mode, we can type any Elixir expression and get its result.\n",
    "![intro-to-iex](pix/intro-to-iex.png)"
   ]
  },
  {
   "cell_type": "markdown",
   "metadata": {},
   "source": [
    "* To exit iex press Ctrl+C twice."
   ]
  },
  {
   "cell_type": "markdown",
   "metadata": {},
   "source": [
    "### Running Scripts\n",
    "* Save the following Elixir code into a file \"simple.exs\".\n",
    "* Execute it with elixir:\n",
    "![helloworld](pix/hello-world.png)"
   ]
  },
  {
   "cell_type": "markdown",
   "metadata": {},
   "source": [
    "### Getting Help\n",
    "* [Elixir on Freenode IRC](irc://irc.freenode.net/elixir-lang)\n",
    "* [Elixir on Slack](https://elixir-slackin.herokuapp.com/)\n",
    "* [Elixir Forum](http://elixirforum.com/)\n",
    "* [Elixir on StackOverflow](https://stackoverflow.com/questions/tagged/elixir)"
   ]
  },
  {
   "cell_type": "code",
   "execution_count": null,
   "metadata": {},
   "outputs": [],
   "source": []
  }
 ],
 "metadata": {
  "kernelspec": {
   "display_name": "Elixir",
   "language": "Elixir",
   "name": "ielixir"
  },
  "language_info": {
   "codemirror_mode": "elixir",
   "file_extension": "ex",
   "mimetype": "text/x-elixir",
   "name": "elixir",
   "nbconvert_exporter": "",
   "pygments_lexer": "elixir",
   "version": "1.7.4"
  }
 },
 "nbformat": 4,
 "nbformat_minor": 2
}
